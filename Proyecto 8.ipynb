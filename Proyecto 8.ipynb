{
 "cells": [
  {
   "cell_type": "markdown",
   "metadata": {},
   "source": [
    "<div class=\"alert alert-block alert-success\">\n",
    "<b>Comentario general del revisor</b> <a class=\"tocSkip\"></a><br />\n",
    "Status del proyecto: <b>Aprobado</b>\n",
    "</div>\n"
   ]
  },
  {
   "cell_type": "markdown",
   "metadata": {},
   "source": [
    "¡Hola!<br />\n",
    "Soy **Francisco Cortés**, estoy contento de revisar tu proyecto y ser parte de tu proceso de aprendizaje.\n",
    "A lo largo del texto, haré algunas observaciones sobre mejoras en el código y también haré comentarios sobre tus percepciones sobre el tema. Si existe algún error en el código, no te preocupes, estoy aquí para ayudarte a mejorarlo, en la primera iteración te lo señalaré para que tengas la oportunidad de corregirlo, pero si aún no encuentras una solución para esta tarea, te daré una pista más precisa en la próxima iteración y también algunos ejemplos prácticos. Estaré abierto a retroalimentación y discusiones sobre el tema.<br />\n",
    "Encontrarás mis comentarios a continuación - **por favor no los muevas, modifiques o borres**.\n",
    "Revisaré cuidadosamente tu código para comprobar que se han cumplido con los requisitos y te proporcionaré mis comentarios en cajas verdes, amarillas o rojas como esta:\n",
    "\n",
    "<div class=\"alert alert-block alert-success\">\n",
    "<b>Comentario del revisor</b> <a class=\"tocSkip\"></a>\n",
    "\n",
    "Si la ejecución fue perfecta succesfully.\n",
    "</div>\n",
    "\n",
    "<div class=\"alert alert-block alert-warning\">\n",
    "<b>Comentario del revisor</b> <a class=\"tocSkip\"></a>\n",
    "\n",
    "Si existe alguna recomendación para que tu código mejore.\n",
    "</div>\n",
    "\n",
    "<div class=\"alert alert-block alert-danger\">\n",
    "\n",
    "<b>Comentario del revisor</b> <a class=\"tocSkip\"></a>\n",
    "\n",
    "Si existen correcciones necesarias para cumplir con los requisitos. El trabajo no puede ser aceptado si hay alguna caja roja.\n",
    "</div>\n",
    "\n",
    "Puedes responderme de la siguiente manera:\n",
    "\n",
    "<div class=\"alert alert-block alert-info\">\n",
    "<b>Respuesta del estudiante.</b> <a class=\"tocSkip\"></a>\n",
    "</div>"
   ]
  },
  {
   "cell_type": "markdown",
   "metadata": {},
   "source": [
    "#                       TEST SPRINT 8\n",
    "\n",
    "Estás trabajando como analista para Zuber, una nueva empresa de viajes compartidos que se está lanzando en Chicago. Tu tarea es encontrar patrones en la información disponible. Quieres comprender las preferencias de los pasajeros y el impacto de los factores externos en los viajes.\n",
    "\n",
    "Estudiarás una base de datos, analizarás los datos de los competidores y probarás una hipótesis sobre el impacto del clima en la frecuencia de los viajes."
   ]
  },
  {
   "cell_type": "markdown",
   "metadata": {},
   "source": [
    "###  Importar librerias y abrir archivo csv en nuestro libro de trabajo en Jupiterhub"
   ]
  },
  {
   "cell_type": "code",
   "execution_count": 1,
   "metadata": {},
   "outputs": [],
   "source": [
    "import pandas as pd\n",
    "import numpy as np\n",
    "import matplotlib as plt\n",
    "from matplotlib import pyplot as plt\n",
    "import seaborn as sns"
   ]
  },
  {
   "cell_type": "code",
   "execution_count": 3,
   "metadata": {},
   "outputs": [],
   "source": [
    "#Se leen los archivos cvs .\n",
    "'''\n",
    "df_cabs_company = pd.read_csv(\"moved_project_sql_result_01.csv\")\n",
    "df_average_trips = pd.read_csv(\"moved_project_sql_result_04.csv\")\n",
    "df_Loop_to_Hare = pd.read_csv(\"moved_project_sql_result_07.csv\")\n",
    "'''\n",
    "\n",
    "\n",
    "df_cabs_company = pd.read_csv(\"/datasets/project_sql_result_01.csv\")\n",
    "df_average_trips = pd.read_csv(\"/datasets/project_sql_result_04.csv\")\n",
    "df_Loop_to_Hare = pd.read_csv(\"/datasets/project_sql_result_07.csv\")"
   ]
  },
  {
   "cell_type": "markdown",
   "metadata": {},
   "source": [
    "### Estudio de los datos en contenidos de los df."
   ]
  },
  {
   "cell_type": "code",
   "execution_count": 4,
   "metadata": {},
   "outputs": [
    {
     "data": {
      "text/html": [
       "<div>\n",
       "<style scoped>\n",
       "    .dataframe tbody tr th:only-of-type {\n",
       "        vertical-align: middle;\n",
       "    }\n",
       "\n",
       "    .dataframe tbody tr th {\n",
       "        vertical-align: top;\n",
       "    }\n",
       "\n",
       "    .dataframe thead th {\n",
       "        text-align: right;\n",
       "    }\n",
       "</style>\n",
       "<table border=\"1\" class=\"dataframe\">\n",
       "  <thead>\n",
       "    <tr style=\"text-align: right;\">\n",
       "      <th></th>\n",
       "      <th>company_name</th>\n",
       "      <th>trips_amount</th>\n",
       "    </tr>\n",
       "  </thead>\n",
       "  <tbody>\n",
       "    <tr>\n",
       "      <th>0</th>\n",
       "      <td>Flash Cab</td>\n",
       "      <td>19558</td>\n",
       "    </tr>\n",
       "    <tr>\n",
       "      <th>1</th>\n",
       "      <td>Taxi Affiliation Services</td>\n",
       "      <td>11422</td>\n",
       "    </tr>\n",
       "    <tr>\n",
       "      <th>2</th>\n",
       "      <td>Medallion Leasing</td>\n",
       "      <td>10367</td>\n",
       "    </tr>\n",
       "    <tr>\n",
       "      <th>3</th>\n",
       "      <td>Yellow Cab</td>\n",
       "      <td>9888</td>\n",
       "    </tr>\n",
       "    <tr>\n",
       "      <th>4</th>\n",
       "      <td>Taxi Affiliation Service Yellow</td>\n",
       "      <td>9299</td>\n",
       "    </tr>\n",
       "    <tr>\n",
       "      <th>...</th>\n",
       "      <td>...</td>\n",
       "      <td>...</td>\n",
       "    </tr>\n",
       "    <tr>\n",
       "      <th>59</th>\n",
       "      <td>4053 - 40193 Adwar H. Nikola</td>\n",
       "      <td>7</td>\n",
       "    </tr>\n",
       "    <tr>\n",
       "      <th>60</th>\n",
       "      <td>2733 - 74600 Benny Jona</td>\n",
       "      <td>7</td>\n",
       "    </tr>\n",
       "    <tr>\n",
       "      <th>61</th>\n",
       "      <td>5874 - 73628 Sergey Cab Corp.</td>\n",
       "      <td>5</td>\n",
       "    </tr>\n",
       "    <tr>\n",
       "      <th>62</th>\n",
       "      <td>2241 - 44667 - Felman Corp</td>\n",
       "      <td>3</td>\n",
       "    </tr>\n",
       "    <tr>\n",
       "      <th>63</th>\n",
       "      <td>3556 - 36214 RC Andrews Cab</td>\n",
       "      <td>2</td>\n",
       "    </tr>\n",
       "  </tbody>\n",
       "</table>\n",
       "<p>64 rows × 2 columns</p>\n",
       "</div>"
      ],
      "text/plain": [
       "                       company_name  trips_amount\n",
       "0                         Flash Cab         19558\n",
       "1         Taxi Affiliation Services         11422\n",
       "2                 Medallion Leasing         10367\n",
       "3                        Yellow Cab          9888\n",
       "4   Taxi Affiliation Service Yellow          9299\n",
       "..                              ...           ...\n",
       "59     4053 - 40193 Adwar H. Nikola             7\n",
       "60          2733 - 74600 Benny Jona             7\n",
       "61    5874 - 73628 Sergey Cab Corp.             5\n",
       "62       2241 - 44667 - Felman Corp             3\n",
       "63      3556 - 36214 RC Andrews Cab             2\n",
       "\n",
       "[64 rows x 2 columns]"
      ]
     },
     "execution_count": 4,
     "metadata": {},
     "output_type": "execute_result"
    }
   ],
   "source": [
    "# Datos del primer df.\n",
    "df_cabs_company"
   ]
  },
  {
   "cell_type": "code",
   "execution_count": 5,
   "metadata": {},
   "outputs": [
    {
     "name": "stdout",
     "output_type": "stream",
     "text": [
      "<class 'pandas.core.frame.DataFrame'>\n",
      "RangeIndex: 64 entries, 0 to 63\n",
      "Data columns (total 2 columns):\n",
      " #   Column        Non-Null Count  Dtype \n",
      "---  ------        --------------  ----- \n",
      " 0   company_name  64 non-null     object\n",
      " 1   trips_amount  64 non-null     int64 \n",
      "dtypes: int64(1), object(1)\n",
      "memory usage: 1.1+ KB\n"
     ]
    }
   ],
   "source": [
    "#Visualizamos los tipos de datos del df. \n",
    "df_cabs_company.info()"
   ]
  },
  {
   "cell_type": "markdown",
   "metadata": {},
   "source": [
    "Podemos ver que los datos del primer df no necesitan ser modificados."
   ]
  },
  {
   "cell_type": "code",
   "execution_count": 6,
   "metadata": {},
   "outputs": [
    {
     "data": {
      "text/html": [
       "<div>\n",
       "<style scoped>\n",
       "    .dataframe tbody tr th:only-of-type {\n",
       "        vertical-align: middle;\n",
       "    }\n",
       "\n",
       "    .dataframe tbody tr th {\n",
       "        vertical-align: top;\n",
       "    }\n",
       "\n",
       "    .dataframe thead th {\n",
       "        text-align: right;\n",
       "    }\n",
       "</style>\n",
       "<table border=\"1\" class=\"dataframe\">\n",
       "  <thead>\n",
       "    <tr style=\"text-align: right;\">\n",
       "      <th></th>\n",
       "      <th>dropoff_location_name</th>\n",
       "      <th>average_trips</th>\n",
       "    </tr>\n",
       "  </thead>\n",
       "  <tbody>\n",
       "    <tr>\n",
       "      <th>0</th>\n",
       "      <td>Loop</td>\n",
       "      <td>10727.466667</td>\n",
       "    </tr>\n",
       "    <tr>\n",
       "      <th>1</th>\n",
       "      <td>River North</td>\n",
       "      <td>9523.666667</td>\n",
       "    </tr>\n",
       "    <tr>\n",
       "      <th>2</th>\n",
       "      <td>Streeterville</td>\n",
       "      <td>6664.666667</td>\n",
       "    </tr>\n",
       "    <tr>\n",
       "      <th>3</th>\n",
       "      <td>West Loop</td>\n",
       "      <td>5163.666667</td>\n",
       "    </tr>\n",
       "    <tr>\n",
       "      <th>4</th>\n",
       "      <td>O'Hare</td>\n",
       "      <td>2546.900000</td>\n",
       "    </tr>\n",
       "    <tr>\n",
       "      <th>...</th>\n",
       "      <td>...</td>\n",
       "      <td>...</td>\n",
       "    </tr>\n",
       "    <tr>\n",
       "      <th>89</th>\n",
       "      <td>Mount Greenwood</td>\n",
       "      <td>3.137931</td>\n",
       "    </tr>\n",
       "    <tr>\n",
       "      <th>90</th>\n",
       "      <td>Hegewisch</td>\n",
       "      <td>3.117647</td>\n",
       "    </tr>\n",
       "    <tr>\n",
       "      <th>91</th>\n",
       "      <td>Burnside</td>\n",
       "      <td>2.333333</td>\n",
       "    </tr>\n",
       "    <tr>\n",
       "      <th>92</th>\n",
       "      <td>East Side</td>\n",
       "      <td>1.961538</td>\n",
       "    </tr>\n",
       "    <tr>\n",
       "      <th>93</th>\n",
       "      <td>Riverdale</td>\n",
       "      <td>1.800000</td>\n",
       "    </tr>\n",
       "  </tbody>\n",
       "</table>\n",
       "<p>94 rows × 2 columns</p>\n",
       "</div>"
      ],
      "text/plain": [
       "   dropoff_location_name  average_trips\n",
       "0                   Loop   10727.466667\n",
       "1            River North    9523.666667\n",
       "2          Streeterville    6664.666667\n",
       "3              West Loop    5163.666667\n",
       "4                 O'Hare    2546.900000\n",
       "..                   ...            ...\n",
       "89       Mount Greenwood       3.137931\n",
       "90             Hegewisch       3.117647\n",
       "91              Burnside       2.333333\n",
       "92             East Side       1.961538\n",
       "93             Riverdale       1.800000\n",
       "\n",
       "[94 rows x 2 columns]"
      ]
     },
     "execution_count": 6,
     "metadata": {},
     "output_type": "execute_result"
    }
   ],
   "source": [
    "#Datos del segundo df.\n",
    "df_average_trips"
   ]
  },
  {
   "cell_type": "code",
   "execution_count": 7,
   "metadata": {
    "scrolled": true
   },
   "outputs": [
    {
     "name": "stdout",
     "output_type": "stream",
     "text": [
      "<class 'pandas.core.frame.DataFrame'>\n",
      "RangeIndex: 94 entries, 0 to 93\n",
      "Data columns (total 2 columns):\n",
      " #   Column                 Non-Null Count  Dtype  \n",
      "---  ------                 --------------  -----  \n",
      " 0   dropoff_location_name  94 non-null     object \n",
      " 1   average_trips          94 non-null     float64\n",
      "dtypes: float64(1), object(1)\n",
      "memory usage: 1.6+ KB\n"
     ]
    }
   ],
   "source": [
    "#Visualizamos los tipos de datos del df. \n",
    "df_average_trips.info()"
   ]
  },
  {
   "cell_type": "code",
   "execution_count": 8,
   "metadata": {},
   "outputs": [
    {
     "data": {
      "text/html": [
       "<div>\n",
       "<style scoped>\n",
       "    .dataframe tbody tr th:only-of-type {\n",
       "        vertical-align: middle;\n",
       "    }\n",
       "\n",
       "    .dataframe tbody tr th {\n",
       "        vertical-align: top;\n",
       "    }\n",
       "\n",
       "    .dataframe thead th {\n",
       "        text-align: right;\n",
       "    }\n",
       "</style>\n",
       "<table border=\"1\" class=\"dataframe\">\n",
       "  <thead>\n",
       "    <tr style=\"text-align: right;\">\n",
       "      <th></th>\n",
       "      <th>dropoff_location_name</th>\n",
       "      <th>average_trips</th>\n",
       "    </tr>\n",
       "  </thead>\n",
       "  <tbody>\n",
       "    <tr>\n",
       "      <th>0</th>\n",
       "      <td>Loop</td>\n",
       "      <td>10728.0</td>\n",
       "    </tr>\n",
       "    <tr>\n",
       "      <th>1</th>\n",
       "      <td>River North</td>\n",
       "      <td>9524.0</td>\n",
       "    </tr>\n",
       "    <tr>\n",
       "      <th>2</th>\n",
       "      <td>Streeterville</td>\n",
       "      <td>6665.0</td>\n",
       "    </tr>\n",
       "    <tr>\n",
       "      <th>3</th>\n",
       "      <td>West Loop</td>\n",
       "      <td>5164.0</td>\n",
       "    </tr>\n",
       "    <tr>\n",
       "      <th>4</th>\n",
       "      <td>O'Hare</td>\n",
       "      <td>2547.0</td>\n",
       "    </tr>\n",
       "    <tr>\n",
       "      <th>...</th>\n",
       "      <td>...</td>\n",
       "      <td>...</td>\n",
       "    </tr>\n",
       "    <tr>\n",
       "      <th>89</th>\n",
       "      <td>Mount Greenwood</td>\n",
       "      <td>4.0</td>\n",
       "    </tr>\n",
       "    <tr>\n",
       "      <th>90</th>\n",
       "      <td>Hegewisch</td>\n",
       "      <td>4.0</td>\n",
       "    </tr>\n",
       "    <tr>\n",
       "      <th>91</th>\n",
       "      <td>Burnside</td>\n",
       "      <td>3.0</td>\n",
       "    </tr>\n",
       "    <tr>\n",
       "      <th>92</th>\n",
       "      <td>East Side</td>\n",
       "      <td>2.0</td>\n",
       "    </tr>\n",
       "    <tr>\n",
       "      <th>93</th>\n",
       "      <td>Riverdale</td>\n",
       "      <td>2.0</td>\n",
       "    </tr>\n",
       "  </tbody>\n",
       "</table>\n",
       "<p>94 rows × 2 columns</p>\n",
       "</div>"
      ],
      "text/plain": [
       "   dropoff_location_name  average_trips\n",
       "0                   Loop        10728.0\n",
       "1            River North         9524.0\n",
       "2          Streeterville         6665.0\n",
       "3              West Loop         5164.0\n",
       "4                 O'Hare         2547.0\n",
       "..                   ...            ...\n",
       "89       Mount Greenwood            4.0\n",
       "90             Hegewisch            4.0\n",
       "91              Burnside            3.0\n",
       "92             East Side            2.0\n",
       "93             Riverdale            2.0\n",
       "\n",
       "[94 rows x 2 columns]"
      ]
     },
     "execution_count": 8,
     "metadata": {},
     "output_type": "execute_result"
    }
   ],
   "source": [
    "#Rendondeamos los datos de average_trips ya que no es necesario tener tantos decimales.\n",
    "df_average_trips[[\"average_trips\"]] = df_average_trips[\"average_trips\"].apply(np.ceil)\n",
    "df_average_trips"
   ]
  },
  {
   "cell_type": "markdown",
   "metadata": {},
   "source": [
    "**Ya se tienen los datos con numeros enteros del promedio de viajes por cada taxi.**"
   ]
  },
  {
   "cell_type": "code",
   "execution_count": 9,
   "metadata": {},
   "outputs": [
    {
     "data": {
      "text/html": [
       "<div>\n",
       "<style scoped>\n",
       "    .dataframe tbody tr th:only-of-type {\n",
       "        vertical-align: middle;\n",
       "    }\n",
       "\n",
       "    .dataframe tbody tr th {\n",
       "        vertical-align: top;\n",
       "    }\n",
       "\n",
       "    .dataframe thead th {\n",
       "        text-align: right;\n",
       "    }\n",
       "</style>\n",
       "<table border=\"1\" class=\"dataframe\">\n",
       "  <thead>\n",
       "    <tr style=\"text-align: right;\">\n",
       "      <th></th>\n",
       "      <th>start_ts</th>\n",
       "      <th>weather_conditions</th>\n",
       "      <th>duration_seconds</th>\n",
       "    </tr>\n",
       "  </thead>\n",
       "  <tbody>\n",
       "    <tr>\n",
       "      <th>0</th>\n",
       "      <td>2017-11-25 16:00:00</td>\n",
       "      <td>Good</td>\n",
       "      <td>2410.0</td>\n",
       "    </tr>\n",
       "    <tr>\n",
       "      <th>1</th>\n",
       "      <td>2017-11-25 14:00:00</td>\n",
       "      <td>Good</td>\n",
       "      <td>1920.0</td>\n",
       "    </tr>\n",
       "    <tr>\n",
       "      <th>2</th>\n",
       "      <td>2017-11-25 12:00:00</td>\n",
       "      <td>Good</td>\n",
       "      <td>1543.0</td>\n",
       "    </tr>\n",
       "    <tr>\n",
       "      <th>3</th>\n",
       "      <td>2017-11-04 10:00:00</td>\n",
       "      <td>Good</td>\n",
       "      <td>2512.0</td>\n",
       "    </tr>\n",
       "    <tr>\n",
       "      <th>4</th>\n",
       "      <td>2017-11-11 07:00:00</td>\n",
       "      <td>Good</td>\n",
       "      <td>1440.0</td>\n",
       "    </tr>\n",
       "    <tr>\n",
       "      <th>...</th>\n",
       "      <td>...</td>\n",
       "      <td>...</td>\n",
       "      <td>...</td>\n",
       "    </tr>\n",
       "    <tr>\n",
       "      <th>1063</th>\n",
       "      <td>2017-11-25 11:00:00</td>\n",
       "      <td>Good</td>\n",
       "      <td>0.0</td>\n",
       "    </tr>\n",
       "    <tr>\n",
       "      <th>1064</th>\n",
       "      <td>2017-11-11 10:00:00</td>\n",
       "      <td>Good</td>\n",
       "      <td>1318.0</td>\n",
       "    </tr>\n",
       "    <tr>\n",
       "      <th>1065</th>\n",
       "      <td>2017-11-11 13:00:00</td>\n",
       "      <td>Good</td>\n",
       "      <td>2100.0</td>\n",
       "    </tr>\n",
       "    <tr>\n",
       "      <th>1066</th>\n",
       "      <td>2017-11-11 08:00:00</td>\n",
       "      <td>Good</td>\n",
       "      <td>1380.0</td>\n",
       "    </tr>\n",
       "    <tr>\n",
       "      <th>1067</th>\n",
       "      <td>2017-11-04 16:00:00</td>\n",
       "      <td>Bad</td>\n",
       "      <td>2834.0</td>\n",
       "    </tr>\n",
       "  </tbody>\n",
       "</table>\n",
       "<p>1068 rows × 3 columns</p>\n",
       "</div>"
      ],
      "text/plain": [
       "                 start_ts weather_conditions  duration_seconds\n",
       "0     2017-11-25 16:00:00               Good            2410.0\n",
       "1     2017-11-25 14:00:00               Good            1920.0\n",
       "2     2017-11-25 12:00:00               Good            1543.0\n",
       "3     2017-11-04 10:00:00               Good            2512.0\n",
       "4     2017-11-11 07:00:00               Good            1440.0\n",
       "...                   ...                ...               ...\n",
       "1063  2017-11-25 11:00:00               Good               0.0\n",
       "1064  2017-11-11 10:00:00               Good            1318.0\n",
       "1065  2017-11-11 13:00:00               Good            2100.0\n",
       "1066  2017-11-11 08:00:00               Good            1380.0\n",
       "1067  2017-11-04 16:00:00                Bad            2834.0\n",
       "\n",
       "[1068 rows x 3 columns]"
      ]
     },
     "execution_count": 9,
     "metadata": {},
     "output_type": "execute_result"
    }
   ],
   "source": [
    "#Datos del tercer df. \n",
    "df_Loop_to_Hare"
   ]
  },
  {
   "cell_type": "code",
   "execution_count": 10,
   "metadata": {},
   "outputs": [
    {
     "name": "stdout",
     "output_type": "stream",
     "text": [
      "<class 'pandas.core.frame.DataFrame'>\n",
      "RangeIndex: 1068 entries, 0 to 1067\n",
      "Data columns (total 3 columns):\n",
      " #   Column              Non-Null Count  Dtype  \n",
      "---  ------              --------------  -----  \n",
      " 0   start_ts            1068 non-null   object \n",
      " 1   weather_conditions  1068 non-null   object \n",
      " 2   duration_seconds    1068 non-null   float64\n",
      "dtypes: float64(1), object(2)\n",
      "memory usage: 25.2+ KB\n"
     ]
    }
   ],
   "source": [
    "#Visualizamos los tipos de datos del df. \n",
    "df_Loop_to_Hare.info()"
   ]
  },
  {
   "cell_type": "markdown",
   "metadata": {},
   "source": [
    "<div class=\"alert alert-block alert-success\"> <b>Comentario del revisor</b> <a class=\"tocSkip\"></a><br>\n",
    "\n",
    "Correcto!<br/>\n",
    "\n",
    "Buena manera de leer los datos y hacer una revisión inicial\n",
    "</div>"
   ]
  },
  {
   "cell_type": "markdown",
   "metadata": {},
   "source": [
    "### Cambio de tipos de datos por los adecuados"
   ]
  },
  {
   "cell_type": "code",
   "execution_count": 11,
   "metadata": {},
   "outputs": [
    {
     "data": {
      "text/html": [
       "<div>\n",
       "<style scoped>\n",
       "    .dataframe tbody tr th:only-of-type {\n",
       "        vertical-align: middle;\n",
       "    }\n",
       "\n",
       "    .dataframe tbody tr th {\n",
       "        vertical-align: top;\n",
       "    }\n",
       "\n",
       "    .dataframe thead th {\n",
       "        text-align: right;\n",
       "    }\n",
       "</style>\n",
       "<table border=\"1\" class=\"dataframe\">\n",
       "  <thead>\n",
       "    <tr style=\"text-align: right;\">\n",
       "      <th></th>\n",
       "      <th>start_ts</th>\n",
       "      <th>weather_conditions</th>\n",
       "      <th>duration_seconds</th>\n",
       "      <th>duration_min</th>\n",
       "    </tr>\n",
       "  </thead>\n",
       "  <tbody>\n",
       "    <tr>\n",
       "      <th>0</th>\n",
       "      <td>2017-11-25 16:00:00</td>\n",
       "      <td>Good</td>\n",
       "      <td>2410.0</td>\n",
       "      <td>41.0</td>\n",
       "    </tr>\n",
       "    <tr>\n",
       "      <th>1</th>\n",
       "      <td>2017-11-25 14:00:00</td>\n",
       "      <td>Good</td>\n",
       "      <td>1920.0</td>\n",
       "      <td>32.0</td>\n",
       "    </tr>\n",
       "    <tr>\n",
       "      <th>2</th>\n",
       "      <td>2017-11-25 12:00:00</td>\n",
       "      <td>Good</td>\n",
       "      <td>1543.0</td>\n",
       "      <td>26.0</td>\n",
       "    </tr>\n",
       "    <tr>\n",
       "      <th>3</th>\n",
       "      <td>2017-11-04 10:00:00</td>\n",
       "      <td>Good</td>\n",
       "      <td>2512.0</td>\n",
       "      <td>42.0</td>\n",
       "    </tr>\n",
       "    <tr>\n",
       "      <th>4</th>\n",
       "      <td>2017-11-11 07:00:00</td>\n",
       "      <td>Good</td>\n",
       "      <td>1440.0</td>\n",
       "      <td>24.0</td>\n",
       "    </tr>\n",
       "    <tr>\n",
       "      <th>...</th>\n",
       "      <td>...</td>\n",
       "      <td>...</td>\n",
       "      <td>...</td>\n",
       "      <td>...</td>\n",
       "    </tr>\n",
       "    <tr>\n",
       "      <th>1063</th>\n",
       "      <td>2017-11-25 11:00:00</td>\n",
       "      <td>Good</td>\n",
       "      <td>0.0</td>\n",
       "      <td>0.0</td>\n",
       "    </tr>\n",
       "    <tr>\n",
       "      <th>1064</th>\n",
       "      <td>2017-11-11 10:00:00</td>\n",
       "      <td>Good</td>\n",
       "      <td>1318.0</td>\n",
       "      <td>22.0</td>\n",
       "    </tr>\n",
       "    <tr>\n",
       "      <th>1065</th>\n",
       "      <td>2017-11-11 13:00:00</td>\n",
       "      <td>Good</td>\n",
       "      <td>2100.0</td>\n",
       "      <td>35.0</td>\n",
       "    </tr>\n",
       "    <tr>\n",
       "      <th>1066</th>\n",
       "      <td>2017-11-11 08:00:00</td>\n",
       "      <td>Good</td>\n",
       "      <td>1380.0</td>\n",
       "      <td>23.0</td>\n",
       "    </tr>\n",
       "    <tr>\n",
       "      <th>1067</th>\n",
       "      <td>2017-11-04 16:00:00</td>\n",
       "      <td>Bad</td>\n",
       "      <td>2834.0</td>\n",
       "      <td>48.0</td>\n",
       "    </tr>\n",
       "  </tbody>\n",
       "</table>\n",
       "<p>1068 rows × 4 columns</p>\n",
       "</div>"
      ],
      "text/plain": [
       "                 start_ts weather_conditions  duration_seconds  duration_min\n",
       "0     2017-11-25 16:00:00               Good            2410.0          41.0\n",
       "1     2017-11-25 14:00:00               Good            1920.0          32.0\n",
       "2     2017-11-25 12:00:00               Good            1543.0          26.0\n",
       "3     2017-11-04 10:00:00               Good            2512.0          42.0\n",
       "4     2017-11-11 07:00:00               Good            1440.0          24.0\n",
       "...                   ...                ...               ...           ...\n",
       "1063  2017-11-25 11:00:00               Good               0.0           0.0\n",
       "1064  2017-11-11 10:00:00               Good            1318.0          22.0\n",
       "1065  2017-11-11 13:00:00               Good            2100.0          35.0\n",
       "1066  2017-11-11 08:00:00               Good            1380.0          23.0\n",
       "1067  2017-11-04 16:00:00                Bad            2834.0          48.0\n",
       "\n",
       "[1068 rows x 4 columns]"
      ]
     },
     "execution_count": 11,
     "metadata": {},
     "output_type": "execute_result"
    }
   ],
   "source": [
    "#Cambiaremos la columna con los datos de tiempo a formato de tiempo y no de float\n",
    "df_Loop_to_Hare[\"duration_min\"] = df_Loop_to_Hare[\"duration_seconds\"]/60\n",
    "df_Loop_to_Hare[[\"duration_min\"]] = df_Loop_to_Hare[\"duration_min\"].apply(np.ceil)\n",
    "df_Loop_to_Hare"
   ]
  },
  {
   "cell_type": "code",
   "execution_count": 12,
   "metadata": {
    "scrolled": true
   },
   "outputs": [
    {
     "data": {
      "text/html": [
       "<div>\n",
       "<style scoped>\n",
       "    .dataframe tbody tr th:only-of-type {\n",
       "        vertical-align: middle;\n",
       "    }\n",
       "\n",
       "    .dataframe tbody tr th {\n",
       "        vertical-align: top;\n",
       "    }\n",
       "\n",
       "    .dataframe thead th {\n",
       "        text-align: right;\n",
       "    }\n",
       "</style>\n",
       "<table border=\"1\" class=\"dataframe\">\n",
       "  <thead>\n",
       "    <tr style=\"text-align: right;\">\n",
       "      <th></th>\n",
       "      <th>start_ts</th>\n",
       "      <th>weather_conditions</th>\n",
       "      <th>duration_min</th>\n",
       "    </tr>\n",
       "  </thead>\n",
       "  <tbody>\n",
       "    <tr>\n",
       "      <th>0</th>\n",
       "      <td>2017-11-25 16:00:00</td>\n",
       "      <td>Good</td>\n",
       "      <td>41.0</td>\n",
       "    </tr>\n",
       "    <tr>\n",
       "      <th>1</th>\n",
       "      <td>2017-11-25 14:00:00</td>\n",
       "      <td>Good</td>\n",
       "      <td>32.0</td>\n",
       "    </tr>\n",
       "    <tr>\n",
       "      <th>2</th>\n",
       "      <td>2017-11-25 12:00:00</td>\n",
       "      <td>Good</td>\n",
       "      <td>26.0</td>\n",
       "    </tr>\n",
       "    <tr>\n",
       "      <th>3</th>\n",
       "      <td>2017-11-04 10:00:00</td>\n",
       "      <td>Good</td>\n",
       "      <td>42.0</td>\n",
       "    </tr>\n",
       "    <tr>\n",
       "      <th>4</th>\n",
       "      <td>2017-11-11 07:00:00</td>\n",
       "      <td>Good</td>\n",
       "      <td>24.0</td>\n",
       "    </tr>\n",
       "    <tr>\n",
       "      <th>...</th>\n",
       "      <td>...</td>\n",
       "      <td>...</td>\n",
       "      <td>...</td>\n",
       "    </tr>\n",
       "    <tr>\n",
       "      <th>1063</th>\n",
       "      <td>2017-11-25 11:00:00</td>\n",
       "      <td>Good</td>\n",
       "      <td>0.0</td>\n",
       "    </tr>\n",
       "    <tr>\n",
       "      <th>1064</th>\n",
       "      <td>2017-11-11 10:00:00</td>\n",
       "      <td>Good</td>\n",
       "      <td>22.0</td>\n",
       "    </tr>\n",
       "    <tr>\n",
       "      <th>1065</th>\n",
       "      <td>2017-11-11 13:00:00</td>\n",
       "      <td>Good</td>\n",
       "      <td>35.0</td>\n",
       "    </tr>\n",
       "    <tr>\n",
       "      <th>1066</th>\n",
       "      <td>2017-11-11 08:00:00</td>\n",
       "      <td>Good</td>\n",
       "      <td>23.0</td>\n",
       "    </tr>\n",
       "    <tr>\n",
       "      <th>1067</th>\n",
       "      <td>2017-11-04 16:00:00</td>\n",
       "      <td>Bad</td>\n",
       "      <td>48.0</td>\n",
       "    </tr>\n",
       "  </tbody>\n",
       "</table>\n",
       "<p>1068 rows × 3 columns</p>\n",
       "</div>"
      ],
      "text/plain": [
       "                 start_ts weather_conditions  duration_min\n",
       "0     2017-11-25 16:00:00               Good          41.0\n",
       "1     2017-11-25 14:00:00               Good          32.0\n",
       "2     2017-11-25 12:00:00               Good          26.0\n",
       "3     2017-11-04 10:00:00               Good          42.0\n",
       "4     2017-11-11 07:00:00               Good          24.0\n",
       "...                   ...                ...           ...\n",
       "1063  2017-11-25 11:00:00               Good           0.0\n",
       "1064  2017-11-11 10:00:00               Good          22.0\n",
       "1065  2017-11-11 13:00:00               Good          35.0\n",
       "1066  2017-11-11 08:00:00               Good          23.0\n",
       "1067  2017-11-04 16:00:00                Bad          48.0\n",
       "\n",
       "[1068 rows x 3 columns]"
      ]
     },
     "execution_count": 12,
     "metadata": {},
     "output_type": "execute_result"
    }
   ],
   "source": [
    "#Eliminamos la columna de segundo. \n",
    "df_Loop_to_Hare = df_Loop_to_Hare.drop(df_Loop_to_Hare.columns[2], axis= 1)\n",
    "df_Loop_to_Hare"
   ]
  },
  {
   "cell_type": "code",
   "execution_count": 13,
   "metadata": {},
   "outputs": [
    {
     "data": {
      "text/html": [
       "<div>\n",
       "<style scoped>\n",
       "    .dataframe tbody tr th:only-of-type {\n",
       "        vertical-align: middle;\n",
       "    }\n",
       "\n",
       "    .dataframe tbody tr th {\n",
       "        vertical-align: top;\n",
       "    }\n",
       "\n",
       "    .dataframe thead th {\n",
       "        text-align: right;\n",
       "    }\n",
       "</style>\n",
       "<table border=\"1\" class=\"dataframe\">\n",
       "  <thead>\n",
       "    <tr style=\"text-align: right;\">\n",
       "      <th></th>\n",
       "      <th>start_ts</th>\n",
       "      <th>weather_conditions</th>\n",
       "      <th>duration_min</th>\n",
       "    </tr>\n",
       "  </thead>\n",
       "  <tbody>\n",
       "    <tr>\n",
       "      <th>0</th>\n",
       "      <td>2017-11-25 16:00:00</td>\n",
       "      <td>Good</td>\n",
       "      <td>41.0</td>\n",
       "    </tr>\n",
       "    <tr>\n",
       "      <th>1</th>\n",
       "      <td>2017-11-25 14:00:00</td>\n",
       "      <td>Good</td>\n",
       "      <td>32.0</td>\n",
       "    </tr>\n",
       "    <tr>\n",
       "      <th>2</th>\n",
       "      <td>2017-11-25 12:00:00</td>\n",
       "      <td>Good</td>\n",
       "      <td>26.0</td>\n",
       "    </tr>\n",
       "    <tr>\n",
       "      <th>3</th>\n",
       "      <td>2017-11-04 10:00:00</td>\n",
       "      <td>Good</td>\n",
       "      <td>42.0</td>\n",
       "    </tr>\n",
       "    <tr>\n",
       "      <th>4</th>\n",
       "      <td>2017-11-11 07:00:00</td>\n",
       "      <td>Good</td>\n",
       "      <td>24.0</td>\n",
       "    </tr>\n",
       "    <tr>\n",
       "      <th>...</th>\n",
       "      <td>...</td>\n",
       "      <td>...</td>\n",
       "      <td>...</td>\n",
       "    </tr>\n",
       "    <tr>\n",
       "      <th>1063</th>\n",
       "      <td>2017-11-25 11:00:00</td>\n",
       "      <td>Good</td>\n",
       "      <td>0.0</td>\n",
       "    </tr>\n",
       "    <tr>\n",
       "      <th>1064</th>\n",
       "      <td>2017-11-11 10:00:00</td>\n",
       "      <td>Good</td>\n",
       "      <td>22.0</td>\n",
       "    </tr>\n",
       "    <tr>\n",
       "      <th>1065</th>\n",
       "      <td>2017-11-11 13:00:00</td>\n",
       "      <td>Good</td>\n",
       "      <td>35.0</td>\n",
       "    </tr>\n",
       "    <tr>\n",
       "      <th>1066</th>\n",
       "      <td>2017-11-11 08:00:00</td>\n",
       "      <td>Good</td>\n",
       "      <td>23.0</td>\n",
       "    </tr>\n",
       "    <tr>\n",
       "      <th>1067</th>\n",
       "      <td>2017-11-04 16:00:00</td>\n",
       "      <td>Bad</td>\n",
       "      <td>48.0</td>\n",
       "    </tr>\n",
       "  </tbody>\n",
       "</table>\n",
       "<p>1068 rows × 3 columns</p>\n",
       "</div>"
      ],
      "text/plain": [
       "                start_ts weather_conditions  duration_min\n",
       "0    2017-11-25 16:00:00               Good          41.0\n",
       "1    2017-11-25 14:00:00               Good          32.0\n",
       "2    2017-11-25 12:00:00               Good          26.0\n",
       "3    2017-11-04 10:00:00               Good          42.0\n",
       "4    2017-11-11 07:00:00               Good          24.0\n",
       "...                  ...                ...           ...\n",
       "1063 2017-11-25 11:00:00               Good           0.0\n",
       "1064 2017-11-11 10:00:00               Good          22.0\n",
       "1065 2017-11-11 13:00:00               Good          35.0\n",
       "1066 2017-11-11 08:00:00               Good          23.0\n",
       "1067 2017-11-04 16:00:00                Bad          48.0\n",
       "\n",
       "[1068 rows x 3 columns]"
      ]
     },
     "execution_count": 13,
     "metadata": {},
     "output_type": "execute_result"
    }
   ],
   "source": [
    "#convertimos a tipo de dato de tiempo la columna start_ts.\n",
    "df_Loop_to_Hare[\"start_ts\"] = pd.to_datetime(df_Loop_to_Hare[\"start_ts\"], errors=\"coerce\")\n",
    "df_Loop_to_Hare"
   ]
  },
  {
   "cell_type": "code",
   "execution_count": 14,
   "metadata": {},
   "outputs": [
    {
     "name": "stdout",
     "output_type": "stream",
     "text": [
      "<class 'pandas.core.frame.DataFrame'>\n",
      "RangeIndex: 1068 entries, 0 to 1067\n",
      "Data columns (total 3 columns):\n",
      " #   Column              Non-Null Count  Dtype         \n",
      "---  ------              --------------  -----         \n",
      " 0   start_ts            1068 non-null   datetime64[ns]\n",
      " 1   weather_conditions  1068 non-null   object        \n",
      " 2   duration_min        1068 non-null   float64       \n",
      "dtypes: datetime64[ns](1), float64(1), object(1)\n",
      "memory usage: 25.2+ KB\n"
     ]
    }
   ],
   "source": [
    "df_Loop_to_Hare.info()"
   ]
  },
  {
   "cell_type": "markdown",
   "metadata": {},
   "source": [
    "**Procederemos a la busqueda de valores nulos.**"
   ]
  },
  {
   "cell_type": "code",
   "execution_count": 15,
   "metadata": {},
   "outputs": [
    {
     "data": {
      "text/plain": [
       "company_name    0\n",
       "trips_amount    0\n",
       "dtype: int64"
      ]
     },
     "execution_count": 15,
     "metadata": {},
     "output_type": "execute_result"
    }
   ],
   "source": [
    "df_cabs_company.isna().sum()"
   ]
  },
  {
   "cell_type": "code",
   "execution_count": 16,
   "metadata": {},
   "outputs": [
    {
     "data": {
      "text/plain": [
       "dropoff_location_name    0\n",
       "average_trips            0\n",
       "dtype: int64"
      ]
     },
     "execution_count": 16,
     "metadata": {},
     "output_type": "execute_result"
    }
   ],
   "source": [
    "df_average_trips.isna().sum()"
   ]
  },
  {
   "cell_type": "code",
   "execution_count": 17,
   "metadata": {
    "scrolled": true
   },
   "outputs": [
    {
     "data": {
      "text/plain": [
       "start_ts              0\n",
       "weather_conditions    0\n",
       "duration_min          0\n",
       "dtype: int64"
      ]
     },
     "execution_count": 17,
     "metadata": {},
     "output_type": "execute_result"
    }
   ],
   "source": [
    "df_Loop_to_Hare.isna().sum()"
   ]
  },
  {
   "cell_type": "markdown",
   "metadata": {},
   "source": [
    "<div class=\"alert alert-block alert-success\"> <b>Comentario del revisor</b> <a class=\"tocSkip\"></a><br>\n",
    "\n",
    "Correcto!<br/>\n",
    "\n",
    "Buena manera de hacer los cambios necesarios en los datos\n",
    "</div>"
   ]
  },
  {
   "cell_type": "markdown",
   "metadata": {},
   "source": [
    "**Podemos observar que en ningun dataframe tenemos valores ausentes, por lo que continuamos con la visualizacion por medio de graficas.**"
   ]
  },
  {
   "cell_type": "code",
   "execution_count": 17,
   "metadata": {},
   "outputs": [
    {
     "data": {
      "text/html": [
       "<div>\n",
       "<style scoped>\n",
       "    .dataframe tbody tr th:only-of-type {\n",
       "        vertical-align: middle;\n",
       "    }\n",
       "\n",
       "    .dataframe tbody tr th {\n",
       "        vertical-align: top;\n",
       "    }\n",
       "\n",
       "    .dataframe thead th {\n",
       "        text-align: right;\n",
       "    }\n",
       "</style>\n",
       "<table border=\"1\" class=\"dataframe\">\n",
       "  <thead>\n",
       "    <tr style=\"text-align: right;\">\n",
       "      <th></th>\n",
       "      <th>company_name</th>\n",
       "      <th>trips_amount</th>\n",
       "      <th>dropoff_location_name</th>\n",
       "      <th>average_trips</th>\n",
       "    </tr>\n",
       "  </thead>\n",
       "  <tbody>\n",
       "    <tr>\n",
       "      <th>0</th>\n",
       "      <td>Flash Cab</td>\n",
       "      <td>19558.0</td>\n",
       "      <td>Loop</td>\n",
       "      <td>10728.0</td>\n",
       "    </tr>\n",
       "    <tr>\n",
       "      <th>1</th>\n",
       "      <td>Taxi Affiliation Services</td>\n",
       "      <td>11422.0</td>\n",
       "      <td>River North</td>\n",
       "      <td>9524.0</td>\n",
       "    </tr>\n",
       "    <tr>\n",
       "      <th>2</th>\n",
       "      <td>Medallion Leasin</td>\n",
       "      <td>10367.0</td>\n",
       "      <td>Streeterville</td>\n",
       "      <td>6665.0</td>\n",
       "    </tr>\n",
       "    <tr>\n",
       "      <th>3</th>\n",
       "      <td>Yellow Cab</td>\n",
       "      <td>9888.0</td>\n",
       "      <td>West Loop</td>\n",
       "      <td>5164.0</td>\n",
       "    </tr>\n",
       "    <tr>\n",
       "      <th>4</th>\n",
       "      <td>Taxi Affiliation Service Yellow</td>\n",
       "      <td>9299.0</td>\n",
       "      <td>O'Hare</td>\n",
       "      <td>2547.0</td>\n",
       "    </tr>\n",
       "    <tr>\n",
       "      <th>...</th>\n",
       "      <td>...</td>\n",
       "      <td>...</td>\n",
       "      <td>...</td>\n",
       "      <td>...</td>\n",
       "    </tr>\n",
       "    <tr>\n",
       "      <th>89</th>\n",
       "      <td>NaN</td>\n",
       "      <td>NaN</td>\n",
       "      <td>Mount Greenwood</td>\n",
       "      <td>4.0</td>\n",
       "    </tr>\n",
       "    <tr>\n",
       "      <th>90</th>\n",
       "      <td>NaN</td>\n",
       "      <td>NaN</td>\n",
       "      <td>Hegewisch</td>\n",
       "      <td>4.0</td>\n",
       "    </tr>\n",
       "    <tr>\n",
       "      <th>91</th>\n",
       "      <td>NaN</td>\n",
       "      <td>NaN</td>\n",
       "      <td>Burnside</td>\n",
       "      <td>3.0</td>\n",
       "    </tr>\n",
       "    <tr>\n",
       "      <th>92</th>\n",
       "      <td>NaN</td>\n",
       "      <td>NaN</td>\n",
       "      <td>East Side</td>\n",
       "      <td>2.0</td>\n",
       "    </tr>\n",
       "    <tr>\n",
       "      <th>93</th>\n",
       "      <td>NaN</td>\n",
       "      <td>NaN</td>\n",
       "      <td>Riverdale</td>\n",
       "      <td>2.0</td>\n",
       "    </tr>\n",
       "  </tbody>\n",
       "</table>\n",
       "<p>94 rows × 4 columns</p>\n",
       "</div>"
      ],
      "text/plain": [
       "                       company_name  trips_amount dropoff_location_name  \\\n",
       "0                         Flash Cab       19558.0                  Loop   \n",
       "1         Taxi Affiliation Services       11422.0           River North   \n",
       "2                  Medallion Leasin       10367.0         Streeterville   \n",
       "3                        Yellow Cab        9888.0             West Loop   \n",
       "4   Taxi Affiliation Service Yellow        9299.0                O'Hare   \n",
       "..                              ...           ...                   ...   \n",
       "89                              NaN           NaN       Mount Greenwood   \n",
       "90                              NaN           NaN             Hegewisch   \n",
       "91                              NaN           NaN              Burnside   \n",
       "92                              NaN           NaN             East Side   \n",
       "93                              NaN           NaN             Riverdale   \n",
       "\n",
       "    average_trips  \n",
       "0         10728.0  \n",
       "1          9524.0  \n",
       "2          6665.0  \n",
       "3          5164.0  \n",
       "4          2547.0  \n",
       "..            ...  \n",
       "89            4.0  \n",
       "90            4.0  \n",
       "91            3.0  \n",
       "92            2.0  \n",
       "93            2.0  \n",
       "\n",
       "[94 rows x 4 columns]"
      ]
     },
     "execution_count": 17,
     "metadata": {},
     "output_type": "execute_result"
    }
   ],
   "source": [
    "df_concat_dfs = pd. concat([df_cabs_company, df_average_trips],axis=1, join=\"outer\")\n",
    "df_concat_dfs"
   ]
  },
  {
   "cell_type": "markdown",
   "metadata": {},
   "source": [
    "<div class=\"alert alert-block alert-warning\"> <b>Comentario del revisor</b> <a class=\"tocSkip\"></a><br>\n",
    "\n",
    "Cuidado!<br/>\n",
    "\n",
    "No considero que esto aporte al avance del proyecto, los datos de ambos conjuntos de datos son muy distintos por lo que no tiene mucho sentido hacer una sola tabla \n",
    "</div>"
   ]
  },
  {
   "cell_type": "markdown",
   "metadata": {},
   "source": [
    "### Principales barrios donde bajan los usuarios"
   ]
  },
  {
   "cell_type": "code",
   "execution_count": 20,
   "metadata": {},
   "outputs": [
    {
     "data": {
      "text/html": [
       "<div>\n",
       "<style scoped>\n",
       "    .dataframe tbody tr th:only-of-type {\n",
       "        vertical-align: middle;\n",
       "    }\n",
       "\n",
       "    .dataframe tbody tr th {\n",
       "        vertical-align: top;\n",
       "    }\n",
       "\n",
       "    .dataframe thead th {\n",
       "        text-align: right;\n",
       "    }\n",
       "</style>\n",
       "<table border=\"1\" class=\"dataframe\">\n",
       "  <thead>\n",
       "    <tr style=\"text-align: right;\">\n",
       "      <th></th>\n",
       "      <th>dropoff_location_name</th>\n",
       "      <th>average_trips</th>\n",
       "    </tr>\n",
       "  </thead>\n",
       "  <tbody>\n",
       "    <tr>\n",
       "      <th>50</th>\n",
       "      <td>Loop</td>\n",
       "      <td>10728.0</td>\n",
       "    </tr>\n",
       "    <tr>\n",
       "      <th>68</th>\n",
       "      <td>River North</td>\n",
       "      <td>9524.0</td>\n",
       "    </tr>\n",
       "    <tr>\n",
       "      <th>78</th>\n",
       "      <td>Streeterville</td>\n",
       "      <td>6665.0</td>\n",
       "    </tr>\n",
       "    <tr>\n",
       "      <th>87</th>\n",
       "      <td>West Loop</td>\n",
       "      <td>5164.0</td>\n",
       "    </tr>\n",
       "    <tr>\n",
       "      <th>63</th>\n",
       "      <td>O'Hare</td>\n",
       "      <td>2547.0</td>\n",
       "    </tr>\n",
       "    <tr>\n",
       "      <th>44</th>\n",
       "      <td>Lake View</td>\n",
       "      <td>2421.0</td>\n",
       "    </tr>\n",
       "    <tr>\n",
       "      <th>35</th>\n",
       "      <td>Grant Park</td>\n",
       "      <td>2069.0</td>\n",
       "    </tr>\n",
       "    <tr>\n",
       "      <th>56</th>\n",
       "      <td>Museum Campus</td>\n",
       "      <td>1510.0</td>\n",
       "    </tr>\n",
       "    <tr>\n",
       "      <th>32</th>\n",
       "      <td>Gold Coast</td>\n",
       "      <td>1365.0</td>\n",
       "    </tr>\n",
       "    <tr>\n",
       "      <th>74</th>\n",
       "      <td>Sheffield &amp; DePaul</td>\n",
       "      <td>1260.0</td>\n",
       "    </tr>\n",
       "  </tbody>\n",
       "</table>\n",
       "</div>"
      ],
      "text/plain": [
       "   dropoff_location_name  average_trips\n",
       "50                  Loop        10728.0\n",
       "68           River North         9524.0\n",
       "78         Streeterville         6665.0\n",
       "87             West Loop         5164.0\n",
       "63                O'Hare         2547.0\n",
       "44             Lake View         2421.0\n",
       "35            Grant Park         2069.0\n",
       "56         Museum Campus         1510.0\n",
       "32            Gold Coast         1365.0\n",
       "74    Sheffield & DePaul         1260.0"
      ]
     },
     "execution_count": 20,
     "metadata": {},
     "output_type": "execute_result"
    }
   ],
   "source": [
    "#los 10 locaciones de bajada de usuario mas populares\n",
    "df_average_trips_10_mostfamous = df_average_trips.groupby(by= \"dropoff_location_name\", as_index= False)[\"average_trips\"].sum().sort_values(by= \"average_trips\", ascending= False)\n",
    "df_average_trips_10_mostfamous = df_average_trips_10_mostfamous.head(10)\n",
    "df_average_trips_10_mostfamous"
   ]
  },
  {
   "cell_type": "markdown",
   "metadata": {},
   "source": [
    "### Creacion de graficos"
   ]
  },
  {
   "cell_type": "code",
   "execution_count": 21,
   "metadata": {},
   "outputs": [
    {
     "data": {
      "image/png": "[encoded data removed]",
      "text/plain": [
       "<Figure size 1500x1000 with 1 Axes>"
      ]
     },
     "metadata": {},
     "output_type": "display_data"
    }
   ],
   "source": [
    "# Grafica de barras donde se ven el total de viajes por compañia de taxis\n",
    "df_cabs_company.plot(title = \"Numero de viajes por compañias de taxis\",\n",
    "                        kind = \"bar\",\n",
    "                        x = \"company_name\",\n",
    "                        y = \"trips_amount\",\n",
    "                        xlabel = \"Nombre de la compañia\",\n",
    "                        ylabel = \"Total de viajes en miles\",\n",
    "                        color = \"g\",\n",
    "                        xlim=[0,20],\n",
    "                        figsize=[15,10])                              \n",
    "plt.show()"
   ]
  },
  {
   "cell_type": "markdown",
   "metadata": {},
   "source": [
    "<div class=\"alert alert-block alert-success\"> <b>Comentario del revisor</b> <a class=\"tocSkip\"></a><br>\n",
    "\n",
    "Correcto!<br/>\n",
    "\n",
    "Buena manera de mostrar el resultado, se puede observar claramente cual compañía es la que tiene más viajes agendados, aunque recomendaría solo mostrar el top 10-15 de compañías, de esta manera se observaran mejor los resultados en la grafica\n",
    "</div>"
   ]
  },
  {
   "cell_type": "code",
   "execution_count": 22,
   "metadata": {},
   "outputs": [
    {
     "data": {
      "image/png": "[encoded data removed]",
      "text/plain": [
       "<Figure size 6000x8000 with 1 Axes>"
      ]
     },
     "metadata": {},
     "output_type": "display_data"
    }
   ],
   "source": [
    "# Grafica de histograma donde se ven el total de viajes por compañia de taxis\n",
    "df_cabs_company.plot(title = \"Numero de viajes por compañias de taxis\",\n",
    "                        kind = \"hist\",\n",
    "                        x = \"company_name\",\n",
    "                        y = \"trips_amount\",\n",
    "                        xlabel = \"Nombre de la compañia\",\n",
    "                        ylabel = \"Total de viajes en miles\",\n",
    "                        xlim=[1000,3000],\n",
    "                        figsize=[60,80])                              \n",
    "plt.show()"
   ]
  },
  {
   "cell_type": "markdown",
   "metadata": {},
   "source": [
    "<div class=\"alert alert-block alert-warning\"> <b>Comentario del revisor</b> <a class=\"tocSkip\"></a><br>\n",
    "\n",
    "La grafica anterior a esta ya era suficiente para mostrar la cantidad de viajes, este histograma no aporta mucho\n",
    "</div>"
   ]
  },
  {
   "cell_type": "code",
   "execution_count": 23,
   "metadata": {},
   "outputs": [
    {
     "data": {
      "image/png": "[encoded data removed]",
      "text/plain": [
       "<Figure size 1500x1000 with 1 Axes>"
      ]
     },
     "metadata": {},
     "output_type": "display_data"
    }
   ],
   "source": [
    "# Grafica de barras donde se ven los 10 principales barrios por bajada de usuarios.\n",
    "df_average_trips_10_mostfamous.plot(title = \"Los 10 principales destinos de bajada de usuarios por viaje\",\n",
    "                        kind = \"bar\",\n",
    "                        x = \"dropoff_location_name\",\n",
    "                        y = \"average_trips\",\n",
    "                        xlabel = \"Nombre de la compañia\",\n",
    "                        ylabel = \"Total de viajes en miles\",\n",
    "                        color = \"g\",\n",
    "                        xlim=[0,20],\n",
    "                        figsize=[15,10])                              \n",
    "plt.show()"
   ]
  },
  {
   "cell_type": "markdown",
   "metadata": {},
   "source": [
    "<div class=\"alert alert-block alert-success\"> <b>Comentario del revisor</b> <a class=\"tocSkip\"></a><br>\n",
    "\n",
    "Correcto!<br/>\n",
    "\n",
    "Buena manera de crear una grafica que nos muestra los lugares más frecuentados\n",
    "</div>"
   ]
  },
  {
   "cell_type": "code",
   "execution_count": 22,
   "metadata": {
    "scrolled": false
   },
   "outputs": [
    {
     "data": {
      "image/png": "[encoded data removed]",
      "text/plain": [
       "<Figure size 1000x2000 with 1 Axes>"
      ]
     },
     "metadata": {},
     "output_type": "display_data"
    }
   ],
   "source": [
    "# Grafica de histograma donde se ven los 10 principales barrios por bajada de usuarios.\n",
    "df_average_trips_10_mostfamous.plot(title = \"Los 10 principales destinos de bajada de usuarios por viaje\",\n",
    "                        kind = \"hist\",\n",
    "                        x = \"dropoff_location_name\",\n",
    "                        y = \"average_trips\",\n",
    "                        xlabel = \"Nombre de la compañia\",\n",
    "                        ylabel = \"Total de viajes en miles\",\n",
    "                        xlim=[900,3000],\n",
    "                        figsize=[10,20])                              \n",
    "plt.show()"
   ]
  },
  {
   "cell_type": "markdown",
   "metadata": {},
   "source": [
    "<div class=\"alert alert-block alert-warning\"> <b>Comentario del revisor</b> <a class=\"tocSkip\"></a><br>\n",
    "\n",
    "Mismo comentario que en el histograma pasado\n",
    "</div>"
   ]
  },
  {
   "cell_type": "markdown",
   "metadata": {},
   "source": []
  },
  {
   "cell_type": "markdown",
   "metadata": {},
   "source": [
    "**Conclucion:**\n",
    "\n",
    "Podemos observar que la compañia Flash Cab es la empresa con mas viajes, asi mismo el destino con mas bajadas por usuario es en el barrio de Loop, sera por la cercania con el aeorupuerto?."
   ]
  },
  {
   "cell_type": "markdown",
   "metadata": {},
   "source": [
    "# PRUEBA DE HIPOTESIS"
   ]
  },
  {
   "cell_type": "markdown",
   "metadata": {},
   "source": [
    "\"La duración promedio de los viajes desde el Loop hasta el Aeropuerto Internacional O'Hare cambia los sábados lluviosos\".\n",
    "\n",
    "Decide por tu cuenta dónde establecer el nivel de significación (alfa).\n",
    "\n",
    "Explica:\n",
    "\n",
    "cómo planteaste las hipótesis nula y alternativa\n",
    "qué criterio usaste para probar las hipótesis y por qué"
   ]
  },
  {
   "cell_type": "code",
   "execution_count": 24,
   "metadata": {},
   "outputs": [
    {
     "data": {
      "text/html": [
       "<div>\n",
       "<style scoped>\n",
       "    .dataframe tbody tr th:only-of-type {\n",
       "        vertical-align: middle;\n",
       "    }\n",
       "\n",
       "    .dataframe tbody tr th {\n",
       "        vertical-align: top;\n",
       "    }\n",
       "\n",
       "    .dataframe thead th {\n",
       "        text-align: right;\n",
       "    }\n",
       "</style>\n",
       "<table border=\"1\" class=\"dataframe\">\n",
       "  <thead>\n",
       "    <tr style=\"text-align: right;\">\n",
       "      <th></th>\n",
       "      <th>start_ts</th>\n",
       "      <th>weather_conditions</th>\n",
       "      <th>duration_min</th>\n",
       "    </tr>\n",
       "  </thead>\n",
       "  <tbody>\n",
       "    <tr>\n",
       "      <th>0</th>\n",
       "      <td>2017-11-25 16:00:00</td>\n",
       "      <td>Good</td>\n",
       "      <td>41.0</td>\n",
       "    </tr>\n",
       "    <tr>\n",
       "      <th>1</th>\n",
       "      <td>2017-11-25 14:00:00</td>\n",
       "      <td>Good</td>\n",
       "      <td>32.0</td>\n",
       "    </tr>\n",
       "    <tr>\n",
       "      <th>2</th>\n",
       "      <td>2017-11-25 12:00:00</td>\n",
       "      <td>Good</td>\n",
       "      <td>26.0</td>\n",
       "    </tr>\n",
       "    <tr>\n",
       "      <th>3</th>\n",
       "      <td>2017-11-04 10:00:00</td>\n",
       "      <td>Good</td>\n",
       "      <td>42.0</td>\n",
       "    </tr>\n",
       "    <tr>\n",
       "      <th>4</th>\n",
       "      <td>2017-11-11 07:00:00</td>\n",
       "      <td>Good</td>\n",
       "      <td>24.0</td>\n",
       "    </tr>\n",
       "    <tr>\n",
       "      <th>...</th>\n",
       "      <td>...</td>\n",
       "      <td>...</td>\n",
       "      <td>...</td>\n",
       "    </tr>\n",
       "    <tr>\n",
       "      <th>1063</th>\n",
       "      <td>2017-11-25 11:00:00</td>\n",
       "      <td>Good</td>\n",
       "      <td>0.0</td>\n",
       "    </tr>\n",
       "    <tr>\n",
       "      <th>1064</th>\n",
       "      <td>2017-11-11 10:00:00</td>\n",
       "      <td>Good</td>\n",
       "      <td>22.0</td>\n",
       "    </tr>\n",
       "    <tr>\n",
       "      <th>1065</th>\n",
       "      <td>2017-11-11 13:00:00</td>\n",
       "      <td>Good</td>\n",
       "      <td>35.0</td>\n",
       "    </tr>\n",
       "    <tr>\n",
       "      <th>1066</th>\n",
       "      <td>2017-11-11 08:00:00</td>\n",
       "      <td>Good</td>\n",
       "      <td>23.0</td>\n",
       "    </tr>\n",
       "    <tr>\n",
       "      <th>1067</th>\n",
       "      <td>2017-11-04 16:00:00</td>\n",
       "      <td>Bad</td>\n",
       "      <td>48.0</td>\n",
       "    </tr>\n",
       "  </tbody>\n",
       "</table>\n",
       "<p>1068 rows × 3 columns</p>\n",
       "</div>"
      ],
      "text/plain": [
       "                start_ts weather_conditions  duration_min\n",
       "0    2017-11-25 16:00:00               Good          41.0\n",
       "1    2017-11-25 14:00:00               Good          32.0\n",
       "2    2017-11-25 12:00:00               Good          26.0\n",
       "3    2017-11-04 10:00:00               Good          42.0\n",
       "4    2017-11-11 07:00:00               Good          24.0\n",
       "...                  ...                ...           ...\n",
       "1063 2017-11-25 11:00:00               Good           0.0\n",
       "1064 2017-11-11 10:00:00               Good          22.0\n",
       "1065 2017-11-11 13:00:00               Good          35.0\n",
       "1066 2017-11-11 08:00:00               Good          23.0\n",
       "1067 2017-11-04 16:00:00                Bad          48.0\n",
       "\n",
       "[1068 rows x 3 columns]"
      ]
     },
     "execution_count": 24,
     "metadata": {},
     "output_type": "execute_result"
    }
   ],
   "source": [
    "#Datos del df. ya corregidos anteriormente.\n",
    "df_Loop_to_Hare"
   ]
  },
  {
   "cell_type": "code",
   "execution_count": 25,
   "metadata": {},
   "outputs": [
    {
     "name": "stderr",
     "output_type": "stream",
     "text": [
      "/tmp/ipykernel_214/3355966952.py:2: UserWarning: Pandas doesn't allow columns to be created via a new attribute name - see https://pandas.pydata.org/pandas-docs/stable/indexing.html#attribute-access\n",
      "  df_Loop_to_Hare.saturday = df_Loop_to_Hare[\"start_ts\"].dt.day_name()\n"
     ]
    },
    {
     "data": {
      "text/plain": [
       "0       Saturday\n",
       "1       Saturday\n",
       "2       Saturday\n",
       "3       Saturday\n",
       "4       Saturday\n",
       "          ...   \n",
       "1063    Saturday\n",
       "1064    Saturday\n",
       "1065    Saturday\n",
       "1066    Saturday\n",
       "1067    Saturday\n",
       "Name: start_ts, Length: 1068, dtype: object"
      ]
     },
     "execution_count": 25,
     "metadata": {},
     "output_type": "execute_result"
    }
   ],
   "source": [
    "#Saber si solo los dias sabados estan en el df.\n",
    "df_Loop_to_Hare.saturday = df_Loop_to_Hare[\"start_ts\"].dt.day_name()\n",
    "df_Loop_to_Hare.saturday"
   ]
  },
  {
   "cell_type": "code",
   "execution_count": 26,
   "metadata": {},
   "outputs": [
    {
     "name": "stdout",
     "output_type": "stream",
     "text": [
      "<class 'pandas.core.frame.DataFrame'>\n",
      "RangeIndex: 1068 entries, 0 to 1067\n",
      "Data columns (total 1 columns):\n",
      " #   Column        Non-Null Count  Dtype  \n",
      "---  ------        --------------  -----  \n",
      " 0   duration_min  1068 non-null   float64\n",
      "dtypes: float64(1)\n",
      "memory usage: 8.5 KB\n"
     ]
    }
   ],
   "source": [
    "#Duracion de los viajes.\n",
    "df_Loop_to_Hare_trips = df_Loop_to_Hare.drop(columns= [\"start_ts\",\"weather_conditions\"], axis= 1)\n",
    "df_Loop_to_Hare_trips.info()"
   ]
  },
  {
   "cell_type": "code",
   "execution_count": 27,
   "metadata": {},
   "outputs": [
    {
     "data": {
      "text/html": [
       "<div>\n",
       "<style scoped>\n",
       "    .dataframe tbody tr th:only-of-type {\n",
       "        vertical-align: middle;\n",
       "    }\n",
       "\n",
       "    .dataframe tbody tr th {\n",
       "        vertical-align: top;\n",
       "    }\n",
       "\n",
       "    .dataframe thead th {\n",
       "        text-align: right;\n",
       "    }\n",
       "</style>\n",
       "<table border=\"1\" class=\"dataframe\">\n",
       "  <thead>\n",
       "    <tr style=\"text-align: right;\">\n",
       "      <th></th>\n",
       "      <th>start_ts</th>\n",
       "      <th>weather_conditions</th>\n",
       "      <th>duration_min</th>\n",
       "    </tr>\n",
       "  </thead>\n",
       "  <tbody>\n",
       "    <tr>\n",
       "      <th>6</th>\n",
       "      <td>2017-11-04 16:00:00</td>\n",
       "      <td>Bad</td>\n",
       "      <td>50.0</td>\n",
       "    </tr>\n",
       "    <tr>\n",
       "      <th>30</th>\n",
       "      <td>2017-11-18 12:00:00</td>\n",
       "      <td>Bad</td>\n",
       "      <td>33.0</td>\n",
       "    </tr>\n",
       "    <tr>\n",
       "      <th>34</th>\n",
       "      <td>2017-11-04 17:00:00</td>\n",
       "      <td>Bad</td>\n",
       "      <td>41.0</td>\n",
       "    </tr>\n",
       "    <tr>\n",
       "      <th>51</th>\n",
       "      <td>2017-11-04 16:00:00</td>\n",
       "      <td>Bad</td>\n",
       "      <td>46.0</td>\n",
       "    </tr>\n",
       "    <tr>\n",
       "      <th>52</th>\n",
       "      <td>2017-11-18 12:00:00</td>\n",
       "      <td>Bad</td>\n",
       "      <td>41.0</td>\n",
       "    </tr>\n",
       "    <tr>\n",
       "      <th>...</th>\n",
       "      <td>...</td>\n",
       "      <td>...</td>\n",
       "      <td>...</td>\n",
       "    </tr>\n",
       "    <tr>\n",
       "      <th>1031</th>\n",
       "      <td>2017-11-18 12:00:00</td>\n",
       "      <td>Bad</td>\n",
       "      <td>43.0</td>\n",
       "    </tr>\n",
       "    <tr>\n",
       "      <th>1032</th>\n",
       "      <td>2017-11-18 10:00:00</td>\n",
       "      <td>Bad</td>\n",
       "      <td>32.0</td>\n",
       "    </tr>\n",
       "    <tr>\n",
       "      <th>1053</th>\n",
       "      <td>2017-11-18 12:00:00</td>\n",
       "      <td>Bad</td>\n",
       "      <td>40.0</td>\n",
       "    </tr>\n",
       "    <tr>\n",
       "      <th>1061</th>\n",
       "      <td>2017-11-18 16:00:00</td>\n",
       "      <td>Bad</td>\n",
       "      <td>37.0</td>\n",
       "    </tr>\n",
       "    <tr>\n",
       "      <th>1067</th>\n",
       "      <td>2017-11-04 16:00:00</td>\n",
       "      <td>Bad</td>\n",
       "      <td>48.0</td>\n",
       "    </tr>\n",
       "  </tbody>\n",
       "</table>\n",
       "<p>180 rows × 3 columns</p>\n",
       "</div>"
      ],
      "text/plain": [
       "                start_ts weather_conditions  duration_min\n",
       "6    2017-11-04 16:00:00                Bad          50.0\n",
       "30   2017-11-18 12:00:00                Bad          33.0\n",
       "34   2017-11-04 17:00:00                Bad          41.0\n",
       "51   2017-11-04 16:00:00                Bad          46.0\n",
       "52   2017-11-18 12:00:00                Bad          41.0\n",
       "...                  ...                ...           ...\n",
       "1031 2017-11-18 12:00:00                Bad          43.0\n",
       "1032 2017-11-18 10:00:00                Bad          32.0\n",
       "1053 2017-11-18 12:00:00                Bad          40.0\n",
       "1061 2017-11-18 16:00:00                Bad          37.0\n",
       "1067 2017-11-04 16:00:00                Bad          48.0\n",
       "\n",
       "[180 rows x 3 columns]"
      ]
     },
     "execution_count": 27,
     "metadata": {},
     "output_type": "execute_result"
    }
   ],
   "source": [
    "#buscar solo los climas malos (bad)\n",
    "df_Loop_to_Hare_bad_weather = df_Loop_to_Hare.query('weather_conditions == \"Bad\"')\n",
    "df_Loop_to_Hare_bad_weather"
   ]
  },
  {
   "cell_type": "markdown",
   "metadata": {},
   "source": [
    "<div class=\"alert alert-block alert-success\"> <b>Comentario del revisor</b> <a class=\"tocSkip\"></a><br>\n",
    "\n",
    "Bien hecho!<b/>\n",
    "\n",
    "La manera de separar la información de ambos días es correcta\n",
    "</div>"
   ]
  },
  {
   "cell_type": "code",
   "execution_count": 28,
   "metadata": {},
   "outputs": [
    {
     "data": {
      "text/html": [
       "<div>\n",
       "<style scoped>\n",
       "    .dataframe tbody tr th:only-of-type {\n",
       "        vertical-align: middle;\n",
       "    }\n",
       "\n",
       "    .dataframe tbody tr th {\n",
       "        vertical-align: top;\n",
       "    }\n",
       "\n",
       "    .dataframe thead th {\n",
       "        text-align: right;\n",
       "    }\n",
       "</style>\n",
       "<table border=\"1\" class=\"dataframe\">\n",
       "  <thead>\n",
       "    <tr style=\"text-align: right;\">\n",
       "      <th></th>\n",
       "      <th>duration_min</th>\n",
       "    </tr>\n",
       "  </thead>\n",
       "  <tbody>\n",
       "    <tr>\n",
       "      <th>6</th>\n",
       "      <td>50.0</td>\n",
       "    </tr>\n",
       "    <tr>\n",
       "      <th>30</th>\n",
       "      <td>33.0</td>\n",
       "    </tr>\n",
       "    <tr>\n",
       "      <th>34</th>\n",
       "      <td>41.0</td>\n",
       "    </tr>\n",
       "    <tr>\n",
       "      <th>51</th>\n",
       "      <td>46.0</td>\n",
       "    </tr>\n",
       "    <tr>\n",
       "      <th>52</th>\n",
       "      <td>41.0</td>\n",
       "    </tr>\n",
       "    <tr>\n",
       "      <th>...</th>\n",
       "      <td>...</td>\n",
       "    </tr>\n",
       "    <tr>\n",
       "      <th>1031</th>\n",
       "      <td>43.0</td>\n",
       "    </tr>\n",
       "    <tr>\n",
       "      <th>1032</th>\n",
       "      <td>32.0</td>\n",
       "    </tr>\n",
       "    <tr>\n",
       "      <th>1053</th>\n",
       "      <td>40.0</td>\n",
       "    </tr>\n",
       "    <tr>\n",
       "      <th>1061</th>\n",
       "      <td>37.0</td>\n",
       "    </tr>\n",
       "    <tr>\n",
       "      <th>1067</th>\n",
       "      <td>48.0</td>\n",
       "    </tr>\n",
       "  </tbody>\n",
       "</table>\n",
       "<p>180 rows × 1 columns</p>\n",
       "</div>"
      ],
      "text/plain": [
       "      duration_min\n",
       "6             50.0\n",
       "30            33.0\n",
       "34            41.0\n",
       "51            46.0\n",
       "52            41.0\n",
       "...            ...\n",
       "1031          43.0\n",
       "1032          32.0\n",
       "1053          40.0\n",
       "1061          37.0\n",
       "1067          48.0\n",
       "\n",
       "[180 rows x 1 columns]"
      ]
     },
     "execution_count": 28,
     "metadata": {},
     "output_type": "execute_result"
    }
   ],
   "source": [
    "#Duracion de los viajes con mal clima y los sabados.\n",
    "df_Loop_to_Hare_bad_weather_trips = df_Loop_to_Hare_bad_weather.drop(columns= [\"start_ts\",\"weather_conditions\"], axis= 1)\n",
    "df_Loop_to_Hare_bad_weather_trips"
   ]
  },
  {
   "cell_type": "code",
   "execution_count": 29,
   "metadata": {},
   "outputs": [
    {
     "name": "stdout",
     "output_type": "stream",
     "text": [
      "<class 'pandas.core.frame.DataFrame'>\n",
      "Int64Index: 180 entries, 6 to 1067\n",
      "Data columns (total 1 columns):\n",
      " #   Column        Non-Null Count  Dtype  \n",
      "---  ------        --------------  -----  \n",
      " 0   duration_min  180 non-null    float64\n",
      "dtypes: float64(1)\n",
      "memory usage: 2.8 KB\n"
     ]
    }
   ],
   "source": [
    "df_Loop_to_Hare_bad_weather_trips.info()"
   ]
  },
  {
   "cell_type": "code",
   "execution_count": 30,
   "metadata": {},
   "outputs": [
    {
     "name": "stdout",
     "output_type": "stream",
     "text": [
      "valor p: [6.48471632e-09]\n",
      "Rechazamos la hipótesis nula\n"
     ]
    }
   ],
   "source": [
    "from scipy import stats as st\n",
    "import numpy as np\n",
    "import pandas as pd\n",
    "\n",
    "alpha = 0.05  # establece la significación estadística crítica\n",
    "\n",
    "results= st.ttest_ind(df_Loop_to_Hare_trips, df_Loop_to_Hare_bad_weather_trips, equal_var =False)\n",
    "\n",
    "print('valor p:', results.pvalue) # prueba unilateral: el valor p se divide en dos\n",
    "\n",
    "# prueba unilateral a la izquierda:\n",
    "# rechaza la hipótesis solo si la media muestral es significativamente menor que el valor propuesto\n",
    "if results.pvalue < alpha:\n",
    "    print(\"Rechazamos la hipótesis nula\")\n",
    "else:\n",
    "    print(\"No podemos rechazar la hipótesis nula\")"
   ]
  },
  {
   "cell_type": "markdown",
   "metadata": {},
   "source": [
    "<div class=\"alert alert-block alert-success\"> <b>Comentario del revisor</b> <a class=\"tocSkip\"></a><br>\n",
    "\n",
    "Bien hecho!<br/>\n",
    "\n",
    "Es correcto rechazar la hipotesis nula, debido a que sí hay notables cambios entre un día de buenas condiciones y uno con malas condiciones\n",
    "</div>"
   ]
  },
  {
   "cell_type": "markdown",
   "metadata": {},
   "source": [
    "Conclusion:\n",
    "Se rechaza la hipotesis nula debido a que es mayor la diferencia entre los viajes con clima malo. "
   ]
  },
  {
   "cell_type": "markdown",
   "metadata": {},
   "source": [
    "# Comentario general del revisor\n",
    "<div class=\"alert alert-block alert-success\">\n",
    "<b>Comentario del revisor</b> <a class=\"tocSkip\"></a><br />\n",
    "Has realizado un buen trabajo, me doy cuenta de que has aplicado los conocimientos que has adquirido durante el curso, los procedimientos realizados son correctos, este es un ejercicio que nos ayuda a entender y comprobar las hipotesis con procesos estadisticos.<br/>    \n",
    "<br/>    \n",
    "Continúa con el buen trabajo y mucho éxito en el siguiente Sprint!\n",
    "</div>\n"
   ]
  }
 ],
 "metadata": {
  "ExecuteTimeLog": [
   {
    "duration": 8,
    "start_time": "2025-02-27T22:37:57.955Z"
   },
   {
    "duration": 2,
    "start_time": "2025-02-27T22:38:02.991Z"
   },
   {
    "duration": 2,
    "start_time": "2025-02-27T22:38:07.611Z"
   },
   {
    "duration": 4,
    "start_time": "2025-02-27T22:38:14.093Z"
   },
   {
    "duration": 3,
    "start_time": "2025-02-27T22:45:37.136Z"
   },
   {
    "duration": 2,
    "start_time": "2025-02-27T22:45:39.855Z"
   },
   {
    "duration": 184,
    "start_time": "2025-02-27T23:11:47.528Z"
   },
   {
    "duration": 6,
    "start_time": "2025-02-27T23:11:56.025Z"
   },
   {
    "duration": 10,
    "start_time": "2025-02-27T23:12:03.925Z"
   },
   {
    "duration": 2737,
    "start_time": "2025-02-27T23:12:10.101Z"
   },
   {
    "duration": 517,
    "start_time": "2025-02-27T23:12:12.840Z"
   },
   {
    "duration": 68,
    "start_time": "2025-02-27T23:12:40.955Z"
   },
   {
    "duration": 70,
    "start_time": "2025-02-27T23:20:15.133Z"
   },
   {
    "duration": 66,
    "start_time": "2025-02-27T23:37:42.902Z"
   },
   {
    "duration": 3,
    "start_time": "2025-02-27T23:38:00.752Z"
   },
   {
    "duration": 57,
    "start_time": "2025-02-27T23:38:05.457Z"
   },
   {
    "duration": 60,
    "start_time": "2025-02-27T23:38:53.489Z"
   },
   {
    "duration": 59,
    "start_time": "2025-02-27T23:38:57.231Z"
   },
   {
    "duration": 62,
    "start_time": "2025-02-27T23:49:09.188Z"
   },
   {
    "duration": 60,
    "start_time": "2025-02-27T23:56:53.370Z"
   },
   {
    "duration": 92,
    "start_time": "2025-02-27T23:56:58.523Z"
   },
   {
    "duration": 7,
    "start_time": "2025-02-28T00:00:04.376Z"
   },
   {
    "duration": 5,
    "start_time": "2025-02-28T00:00:07.608Z"
   },
   {
    "duration": 13,
    "start_time": "2025-02-28T00:00:41.942Z"
   },
   {
    "duration": 8,
    "start_time": "2025-02-28T00:23:46.273Z"
   },
   {
    "duration": 16,
    "start_time": "2025-02-28T00:23:59.700Z"
   },
   {
    "duration": 5,
    "start_time": "2025-02-28T00:24:01.994Z"
   },
   {
    "duration": 763,
    "start_time": "2025-02-28T00:24:07.271Z"
   },
   {
    "duration": 41,
    "start_time": "2025-02-28T00:24:08.037Z"
   },
   {
    "duration": 10,
    "start_time": "2025-02-28T00:24:19.171Z"
   },
   {
    "duration": 13,
    "start_time": "2025-02-28T00:24:32.342Z"
   },
   {
    "duration": 5,
    "start_time": "2025-02-28T00:24:45.600Z"
   },
   {
    "duration": 132,
    "start_time": "2025-02-28T00:24:56.477Z"
   },
   {
    "duration": 34,
    "start_time": "2025-02-28T00:25:04.633Z"
   },
   {
    "duration": 9,
    "start_time": "2025-02-28T00:26:18.185Z"
   },
   {
    "duration": 12,
    "start_time": "2025-02-28T00:27:34.883Z"
   },
   {
    "duration": 12,
    "start_time": "2025-02-28T00:28:24.700Z"
   },
   {
    "duration": 9,
    "start_time": "2025-02-28T00:28:25.492Z"
   },
   {
    "duration": 8,
    "start_time": "2025-02-28T00:28:26.287Z"
   },
   {
    "duration": 7,
    "start_time": "2025-02-28T00:28:36.365Z"
   },
   {
    "duration": 11,
    "start_time": "2025-02-28T00:29:41.289Z"
   },
   {
    "duration": 8,
    "start_time": "2025-02-28T00:32:52.049Z"
   },
   {
    "duration": 9,
    "start_time": "2025-02-28T00:36:03.585Z"
   },
   {
    "duration": 157,
    "start_time": "2025-02-28T17:10:27.692Z"
   },
   {
    "duration": 167,
    "start_time": "2025-02-28T20:16:19.114Z"
   },
   {
    "duration": 11,
    "start_time": "2025-02-28T20:16:26.820Z"
   },
   {
    "duration": 2427,
    "start_time": "2025-02-28T20:16:30.595Z"
   },
   {
    "duration": 31,
    "start_time": "2025-02-28T20:16:33.025Z"
   },
   {
    "duration": 10,
    "start_time": "2025-02-28T20:16:33.696Z"
   },
   {
    "duration": 9,
    "start_time": "2025-02-28T20:16:36.299Z"
   },
   {
    "duration": 8,
    "start_time": "2025-02-28T20:16:38.719Z"
   },
   {
    "duration": 11,
    "start_time": "2025-02-28T20:16:41.109Z"
   },
   {
    "duration": 9,
    "start_time": "2025-02-28T20:24:07.238Z"
   },
   {
    "duration": 100,
    "start_time": "2025-02-28T21:29:31.812Z"
   },
   {
    "duration": 40,
    "start_time": "2025-02-28T21:29:50.819Z"
   },
   {
    "duration": 14,
    "start_time": "2025-02-28T21:37:06.400Z"
   },
   {
    "duration": 227,
    "start_time": "2025-02-28T21:53:41.420Z"
   },
   {
    "duration": 11,
    "start_time": "2025-02-28T21:54:16.341Z"
   },
   {
    "duration": 49,
    "start_time": "2025-02-28T21:54:25.009Z"
   },
   {
    "duration": 814,
    "start_time": "2025-02-28T21:54:34.597Z"
   },
   {
    "duration": 35,
    "start_time": "2025-02-28T21:54:35.413Z"
   },
   {
    "duration": 9,
    "start_time": "2025-02-28T21:54:35.450Z"
   },
   {
    "duration": 8,
    "start_time": "2025-02-28T21:54:35.460Z"
   },
   {
    "duration": 7,
    "start_time": "2025-02-28T21:54:35.471Z"
   },
   {
    "duration": 7,
    "start_time": "2025-02-28T21:54:35.480Z"
   },
   {
    "duration": 8,
    "start_time": "2025-02-28T21:54:35.489Z"
   },
   {
    "duration": 8,
    "start_time": "2025-02-28T21:54:35.499Z"
   },
   {
    "duration": 18,
    "start_time": "2025-02-28T21:54:35.525Z"
   },
   {
    "duration": 11,
    "start_time": "2025-02-28T21:54:35.545Z"
   },
   {
    "duration": 38,
    "start_time": "2025-02-28T21:59:36.624Z"
   },
   {
    "duration": 12,
    "start_time": "2025-02-28T22:04:24.552Z"
   },
   {
    "duration": 31,
    "start_time": "2025-02-28T23:01:45.485Z"
   },
   {
    "duration": 155,
    "start_time": "2025-02-28T23:02:45.693Z"
   },
   {
    "duration": 2517,
    "start_time": "2025-02-28T23:02:55.011Z"
   },
   {
    "duration": 23,
    "start_time": "2025-02-28T23:02:57.533Z"
   },
   {
    "duration": 10,
    "start_time": "2025-02-28T23:02:57.558Z"
   },
   {
    "duration": 8,
    "start_time": "2025-02-28T23:02:57.570Z"
   },
   {
    "duration": 12,
    "start_time": "2025-02-28T23:02:57.580Z"
   },
   {
    "duration": 8,
    "start_time": "2025-02-28T23:02:57.594Z"
   },
   {
    "duration": 8,
    "start_time": "2025-02-28T23:02:57.604Z"
   },
   {
    "duration": 8,
    "start_time": "2025-02-28T23:02:57.613Z"
   },
   {
    "duration": 8,
    "start_time": "2025-02-28T23:02:57.623Z"
   },
   {
    "duration": 261,
    "start_time": "2025-02-28T23:02:57.633Z"
   },
   {
    "duration": 456,
    "start_time": "2025-02-28T23:03:36.500Z"
   },
   {
    "duration": 51,
    "start_time": "2025-02-28T23:03:43.376Z"
   },
   {
    "duration": 9,
    "start_time": "2025-02-28T23:03:59.443Z"
   },
   {
    "duration": 10,
    "start_time": "2025-02-28T23:04:01.450Z"
   },
   {
    "duration": 41,
    "start_time": "2025-02-28T23:04:05.882Z"
   },
   {
    "duration": 42,
    "start_time": "2025-02-28T23:04:18.077Z"
   },
   {
    "duration": 10,
    "start_time": "2025-02-28T23:04:19.468Z"
   },
   {
    "duration": 836,
    "start_time": "2025-02-28T23:06:43.044Z"
   },
   {
    "duration": 13,
    "start_time": "2025-02-28T23:06:43.882Z"
   },
   {
    "duration": 9,
    "start_time": "2025-02-28T23:06:43.897Z"
   },
   {
    "duration": 8,
    "start_time": "2025-02-28T23:06:43.908Z"
   },
   {
    "duration": 7,
    "start_time": "2025-02-28T23:06:43.919Z"
   },
   {
    "duration": 8,
    "start_time": "2025-02-28T23:06:43.927Z"
   },
   {
    "duration": 9,
    "start_time": "2025-02-28T23:06:43.936Z"
   },
   {
    "duration": 41,
    "start_time": "2025-02-28T23:06:43.947Z"
   },
   {
    "duration": 11,
    "start_time": "2025-02-28T23:06:43.991Z"
   },
   {
    "duration": 295,
    "start_time": "2025-02-28T23:06:44.005Z"
   },
   {
    "duration": 441,
    "start_time": "2025-02-28T23:06:55.475Z"
   },
   {
    "duration": 61,
    "start_time": "2025-02-28T23:10:09.882Z"
   },
   {
    "duration": 50,
    "start_time": "2025-02-28T23:10:10.796Z"
   },
   {
    "duration": 42,
    "start_time": "2025-02-28T23:10:33.523Z"
   },
   {
    "duration": 895,
    "start_time": "2025-02-28T23:10:43.096Z"
   },
   {
    "duration": 12,
    "start_time": "2025-02-28T23:10:43.994Z"
   },
   {
    "duration": 13,
    "start_time": "2025-02-28T23:10:44.008Z"
   },
   {
    "duration": 9,
    "start_time": "2025-02-28T23:10:44.022Z"
   },
   {
    "duration": 9,
    "start_time": "2025-02-28T23:10:44.033Z"
   },
   {
    "duration": 8,
    "start_time": "2025-02-28T23:10:44.043Z"
   },
   {
    "duration": 38,
    "start_time": "2025-02-28T23:10:44.053Z"
   },
   {
    "duration": 9,
    "start_time": "2025-02-28T23:10:44.093Z"
   },
   {
    "duration": 9,
    "start_time": "2025-02-28T23:10:44.104Z"
   },
   {
    "duration": 14,
    "start_time": "2025-02-28T23:10:44.115Z"
   },
   {
    "duration": 10,
    "start_time": "2025-02-28T23:10:44.130Z"
   },
   {
    "duration": 10,
    "start_time": "2025-02-28T23:14:23.330Z"
   },
   {
    "duration": 9,
    "start_time": "2025-02-28T23:14:40.010Z"
   },
   {
    "duration": 3,
    "start_time": "2025-02-28T23:16:57.017Z"
   },
   {
    "duration": 333,
    "start_time": "2025-02-28T23:17:05.826Z"
   },
   {
    "duration": 17,
    "start_time": "2025-02-28T23:21:46.034Z"
   },
   {
    "duration": 16,
    "start_time": "2025-02-28T23:21:49.798Z"
   },
   {
    "duration": 15,
    "start_time": "2025-02-28T23:23:28.415Z"
   },
   {
    "duration": 3,
    "start_time": "2025-02-28T23:23:34.901Z"
   },
   {
    "duration": 12,
    "start_time": "2025-02-28T23:23:37.816Z"
   },
   {
    "duration": 7,
    "start_time": "2025-02-28T23:23:45.144Z"
   },
   {
    "duration": 14,
    "start_time": "2025-02-28T23:23:57.869Z"
   },
   {
    "duration": 30,
    "start_time": "2025-02-28T23:24:04.187Z"
   },
   {
    "duration": 13,
    "start_time": "2025-02-28T23:24:18.201Z"
   },
   {
    "duration": 14,
    "start_time": "2025-02-28T23:24:26.257Z"
   },
   {
    "duration": 19,
    "start_time": "2025-02-28T23:29:47.176Z"
   },
   {
    "duration": 19,
    "start_time": "2025-02-28T23:29:54.613Z"
   },
   {
    "duration": 14,
    "start_time": "2025-02-28T23:30:05.370Z"
   },
   {
    "duration": 14,
    "start_time": "2025-02-28T23:30:07.249Z"
   },
   {
    "duration": 17,
    "start_time": "2025-02-28T23:49:11.336Z"
   },
   {
    "duration": 3,
    "start_time": "2025-02-28T23:49:30.776Z"
   },
   {
    "duration": 14,
    "start_time": "2025-02-28T23:49:30.781Z"
   },
   {
    "duration": 13,
    "start_time": "2025-02-28T23:49:30.796Z"
   },
   {
    "duration": 9,
    "start_time": "2025-02-28T23:49:30.811Z"
   },
   {
    "duration": 7,
    "start_time": "2025-02-28T23:49:30.824Z"
   },
   {
    "duration": 8,
    "start_time": "2025-02-28T23:49:30.832Z"
   },
   {
    "duration": 9,
    "start_time": "2025-02-28T23:49:30.842Z"
   },
   {
    "duration": 9,
    "start_time": "2025-02-28T23:49:30.852Z"
   },
   {
    "duration": 11,
    "start_time": "2025-02-28T23:49:30.889Z"
   },
   {
    "duration": 13,
    "start_time": "2025-02-28T23:49:30.902Z"
   },
   {
    "duration": 10,
    "start_time": "2025-02-28T23:49:30.917Z"
   },
   {
    "duration": 9,
    "start_time": "2025-02-28T23:49:30.928Z"
   },
   {
    "duration": 3,
    "start_time": "2025-02-28T23:49:40.115Z"
   },
   {
    "duration": 11,
    "start_time": "2025-02-28T23:49:40.121Z"
   },
   {
    "duration": 8,
    "start_time": "2025-02-28T23:49:40.133Z"
   },
   {
    "duration": 8,
    "start_time": "2025-02-28T23:49:40.143Z"
   },
   {
    "duration": 8,
    "start_time": "2025-02-28T23:49:40.153Z"
   },
   {
    "duration": 7,
    "start_time": "2025-02-28T23:49:40.162Z"
   },
   {
    "duration": 10,
    "start_time": "2025-02-28T23:49:40.170Z"
   },
   {
    "duration": 16,
    "start_time": "2025-02-28T23:49:40.198Z"
   },
   {
    "duration": 8,
    "start_time": "2025-02-28T23:49:40.215Z"
   },
   {
    "duration": 11,
    "start_time": "2025-02-28T23:49:40.224Z"
   },
   {
    "duration": 9,
    "start_time": "2025-02-28T23:49:40.236Z"
   },
   {
    "duration": 8,
    "start_time": "2025-02-28T23:49:40.246Z"
   },
   {
    "duration": 14,
    "start_time": "2025-02-28T23:49:51.400Z"
   },
   {
    "duration": 9,
    "start_time": "2025-02-28T23:50:14.619Z"
   },
   {
    "duration": 6,
    "start_time": "2025-02-28T23:50:19.514Z"
   },
   {
    "duration": 16,
    "start_time": "2025-02-28T23:54:28.252Z"
   },
   {
    "duration": 11,
    "start_time": "2025-02-28T23:54:33.949Z"
   },
   {
    "duration": 21,
    "start_time": "2025-02-28T23:54:43.090Z"
   },
   {
    "duration": 16,
    "start_time": "2025-02-28T23:55:17.445Z"
   },
   {
    "duration": 14,
    "start_time": "2025-02-28T23:55:20.128Z"
   },
   {
    "duration": 18,
    "start_time": "2025-02-28T23:57:06.817Z"
   },
   {
    "duration": 3,
    "start_time": "2025-02-28T23:57:15.862Z"
   },
   {
    "duration": 15,
    "start_time": "2025-02-28T23:57:15.868Z"
   },
   {
    "duration": 6,
    "start_time": "2025-02-28T23:57:15.885Z"
   },
   {
    "duration": 7,
    "start_time": "2025-02-28T23:57:15.894Z"
   },
   {
    "duration": 9,
    "start_time": "2025-02-28T23:57:15.903Z"
   },
   {
    "duration": 7,
    "start_time": "2025-02-28T23:57:15.914Z"
   },
   {
    "duration": 9,
    "start_time": "2025-02-28T23:57:15.923Z"
   },
   {
    "duration": 14,
    "start_time": "2025-02-28T23:57:15.933Z"
   },
   {
    "duration": 39,
    "start_time": "2025-02-28T23:57:15.951Z"
   },
   {
    "duration": 13,
    "start_time": "2025-02-28T23:57:15.992Z"
   },
   {
    "duration": 12,
    "start_time": "2025-02-28T23:57:16.007Z"
   },
   {
    "duration": 7,
    "start_time": "2025-02-28T23:57:16.022Z"
   },
   {
    "duration": 8,
    "start_time": "2025-02-28T23:57:16.031Z"
   },
   {
    "duration": 10,
    "start_time": "2025-02-28T23:57:27.547Z"
   },
   {
    "duration": 11,
    "start_time": "2025-03-01T00:01:57.243Z"
   },
   {
    "duration": 12,
    "start_time": "2025-03-01T00:02:05.592Z"
   },
   {
    "duration": 6,
    "start_time": "2025-03-01T00:02:48.382Z"
   },
   {
    "duration": 5,
    "start_time": "2025-03-01T00:03:10.666Z"
   },
   {
    "duration": 8,
    "start_time": "2025-03-01T00:13:52.173Z"
   },
   {
    "duration": 24,
    "start_time": "2025-03-01T00:20:19.531Z"
   },
   {
    "duration": 19,
    "start_time": "2025-03-01T00:21:13.889Z"
   },
   {
    "duration": 5,
    "start_time": "2025-03-01T00:21:37.503Z"
   },
   {
    "duration": 5,
    "start_time": "2025-03-01T00:21:44.834Z"
   },
   {
    "duration": 11,
    "start_time": "2025-03-01T00:21:46.900Z"
   },
   {
    "duration": 8,
    "start_time": "2025-03-01T00:22:35.531Z"
   },
   {
    "duration": 3,
    "start_time": "2025-03-01T00:28:48.524Z"
   },
   {
    "duration": 13,
    "start_time": "2025-03-01T00:28:56.019Z"
   },
   {
    "duration": 56,
    "start_time": "2025-03-01T00:30:02.230Z"
   },
   {
    "duration": 21,
    "start_time": "2025-03-01T00:30:10.050Z"
   },
   {
    "duration": 13,
    "start_time": "2025-03-01T00:30:21.045Z"
   },
   {
    "duration": 14,
    "start_time": "2025-03-01T00:30:31.622Z"
   },
   {
    "duration": 12,
    "start_time": "2025-03-01T00:30:57.272Z"
   },
   {
    "duration": 14,
    "start_time": "2025-03-01T00:31:07.128Z"
   },
   {
    "duration": 13,
    "start_time": "2025-03-01T00:31:15.273Z"
   },
   {
    "duration": 8,
    "start_time": "2025-03-01T00:45:02.675Z"
   },
   {
    "duration": 12,
    "start_time": "2025-03-01T00:50:49.836Z"
   },
   {
    "duration": 15,
    "start_time": "2025-03-01T00:50:55.822Z"
   },
   {
    "duration": 20,
    "start_time": "2025-03-01T00:58:22.817Z"
   },
   {
    "duration": 26,
    "start_time": "2025-03-01T00:58:31.450Z"
   },
   {
    "duration": 4,
    "start_time": "2025-03-01T00:58:37.690Z"
   },
   {
    "duration": 479,
    "start_time": "2025-03-01T00:58:45.079Z"
   },
   {
    "duration": 4,
    "start_time": "2025-03-01T00:59:57.806Z"
   },
   {
    "duration": 4,
    "start_time": "2025-03-01T01:00:09.531Z"
   },
   {
    "duration": 14,
    "start_time": "2025-03-01T01:00:22.171Z"
   },
   {
    "duration": 13,
    "start_time": "2025-03-01T01:00:27.982Z"
   },
   {
    "duration": 14,
    "start_time": "2025-03-01T01:00:44.326Z"
   },
   {
    "duration": 13,
    "start_time": "2025-03-01T01:00:59.109Z"
   },
   {
    "duration": 13,
    "start_time": "2025-03-01T01:01:12.457Z"
   },
   {
    "duration": 14,
    "start_time": "2025-03-01T01:01:20.742Z"
   },
   {
    "duration": 5,
    "start_time": "2025-03-01T01:01:51.645Z"
   },
   {
    "duration": 5,
    "start_time": "2025-03-01T01:02:17.029Z"
   },
   {
    "duration": 5,
    "start_time": "2025-03-01T01:02:24.602Z"
   },
   {
    "duration": 3,
    "start_time": "2025-03-01T01:02:43.203Z"
   },
   {
    "duration": 13,
    "start_time": "2025-03-01T01:02:43.209Z"
   },
   {
    "duration": 7,
    "start_time": "2025-03-01T01:02:43.223Z"
   },
   {
    "duration": 7,
    "start_time": "2025-03-01T01:02:43.232Z"
   },
   {
    "duration": 7,
    "start_time": "2025-03-01T01:02:43.241Z"
   },
   {
    "duration": 8,
    "start_time": "2025-03-01T01:02:43.250Z"
   },
   {
    "duration": 27,
    "start_time": "2025-03-01T01:02:43.260Z"
   },
   {
    "duration": 10,
    "start_time": "2025-03-01T01:02:43.289Z"
   },
   {
    "duration": 8,
    "start_time": "2025-03-01T01:02:43.300Z"
   },
   {
    "duration": 12,
    "start_time": "2025-03-01T01:02:43.309Z"
   },
   {
    "duration": 9,
    "start_time": "2025-03-01T01:02:43.322Z"
   },
   {
    "duration": 10,
    "start_time": "2025-03-01T01:02:43.332Z"
   },
   {
    "duration": 44,
    "start_time": "2025-03-01T01:02:43.343Z"
   },
   {
    "duration": 6,
    "start_time": "2025-03-01T01:02:43.390Z"
   },
   {
    "duration": 9,
    "start_time": "2025-03-01T01:02:43.397Z"
   },
   {
    "duration": 5,
    "start_time": "2025-03-01T01:02:43.407Z"
   },
   {
    "duration": 11,
    "start_time": "2025-03-01T01:02:43.414Z"
   },
   {
    "duration": 826,
    "start_time": "2025-03-01T01:02:48.205Z"
   },
   {
    "duration": 13,
    "start_time": "2025-03-01T01:02:49.034Z"
   },
   {
    "duration": 10,
    "start_time": "2025-03-01T01:02:49.048Z"
   },
   {
    "duration": 8,
    "start_time": "2025-03-01T01:02:49.060Z"
   },
   {
    "duration": 23,
    "start_time": "2025-03-01T01:02:49.070Z"
   },
   {
    "duration": 8,
    "start_time": "2025-03-01T01:02:49.095Z"
   },
   {
    "duration": 9,
    "start_time": "2025-03-01T01:02:49.105Z"
   },
   {
    "duration": 8,
    "start_time": "2025-03-01T01:02:49.115Z"
   },
   {
    "duration": 8,
    "start_time": "2025-03-01T01:02:49.125Z"
   },
   {
    "duration": 11,
    "start_time": "2025-03-01T01:02:49.135Z"
   },
   {
    "duration": 46,
    "start_time": "2025-03-01T01:02:49.147Z"
   },
   {
    "duration": 9,
    "start_time": "2025-03-01T01:02:49.196Z"
   },
   {
    "duration": 8,
    "start_time": "2025-03-01T01:02:49.207Z"
   },
   {
    "duration": 5,
    "start_time": "2025-03-01T01:02:49.218Z"
   },
   {
    "duration": 6,
    "start_time": "2025-03-01T01:02:49.224Z"
   },
   {
    "duration": 5,
    "start_time": "2025-03-01T01:02:49.231Z"
   },
   {
    "duration": 54,
    "start_time": "2025-03-01T01:02:49.238Z"
   },
   {
    "duration": 4,
    "start_time": "2025-03-01T01:02:49.294Z"
   },
   {
    "duration": 4,
    "start_time": "2025-03-01T01:07:36.660Z"
   },
   {
    "duration": 4,
    "start_time": "2025-03-01T01:07:53.792Z"
   },
   {
    "duration": 5,
    "start_time": "2025-03-01T01:10:54.430Z"
   },
   {
    "duration": 12,
    "start_time": "2025-03-01T01:12:20.322Z"
   },
   {
    "duration": 8,
    "start_time": "2025-03-01T01:12:44.294Z"
   },
   {
    "duration": 9,
    "start_time": "2025-03-01T01:16:20.839Z"
   },
   {
    "duration": 684,
    "start_time": "2025-03-01T01:19:05.522Z"
   },
   {
    "duration": 7,
    "start_time": "2025-03-01T01:19:48.908Z"
   },
   {
    "duration": 6,
    "start_time": "2025-03-01T01:19:52.232Z"
   },
   {
    "duration": 7,
    "start_time": "2025-03-01T01:20:01.273Z"
   },
   {
    "duration": 10,
    "start_time": "2025-03-01T01:20:14.959Z"
   },
   {
    "duration": 10,
    "start_time": "2025-03-01T01:22:05.675Z"
   },
   {
    "duration": 3,
    "start_time": "2025-03-01T01:22:09.348Z"
   },
   {
    "duration": 4,
    "start_time": "2025-03-01T01:22:17.793Z"
   },
   {
    "duration": 139,
    "start_time": "2025-03-01T01:22:47.510Z"
   },
   {
    "duration": 16,
    "start_time": "2025-03-01T01:23:57.759Z"
   },
   {
    "duration": 16,
    "start_time": "2025-03-01T01:24:18.302Z"
   },
   {
    "duration": 813,
    "start_time": "2025-03-01T01:24:24.864Z"
   },
   {
    "duration": 18,
    "start_time": "2025-03-01T01:24:25.680Z"
   },
   {
    "duration": 10,
    "start_time": "2025-03-01T01:24:25.700Z"
   },
   {
    "duration": 10,
    "start_time": "2025-03-01T01:24:25.711Z"
   },
   {
    "duration": 7,
    "start_time": "2025-03-01T01:24:25.724Z"
   },
   {
    "duration": 7,
    "start_time": "2025-03-01T01:24:25.733Z"
   },
   {
    "duration": 8,
    "start_time": "2025-03-01T01:24:25.742Z"
   },
   {
    "duration": 37,
    "start_time": "2025-03-01T01:24:25.752Z"
   },
   {
    "duration": 8,
    "start_time": "2025-03-01T01:24:25.791Z"
   },
   {
    "duration": 12,
    "start_time": "2025-03-01T01:24:25.801Z"
   },
   {
    "duration": 10,
    "start_time": "2025-03-01T01:24:25.814Z"
   },
   {
    "duration": 11,
    "start_time": "2025-03-01T01:24:25.825Z"
   },
   {
    "duration": 9,
    "start_time": "2025-03-01T01:24:25.838Z"
   },
   {
    "duration": 6,
    "start_time": "2025-03-01T01:24:25.886Z"
   },
   {
    "duration": 6,
    "start_time": "2025-03-01T01:24:25.894Z"
   },
   {
    "duration": 6,
    "start_time": "2025-03-01T01:24:25.901Z"
   },
   {
    "duration": 12,
    "start_time": "2025-03-01T01:24:25.908Z"
   },
   {
    "duration": 307,
    "start_time": "2025-03-01T01:24:25.921Z"
   },
   {
    "duration": 0,
    "start_time": "2025-03-01T01:24:26.230Z"
   },
   {
    "duration": 10,
    "start_time": "2025-03-01T01:24:35.923Z"
   },
   {
    "duration": 10,
    "start_time": "2025-03-01T01:24:44.747Z"
   },
   {
    "duration": 15,
    "start_time": "2025-03-01T01:25:01.126Z"
   },
   {
    "duration": 20,
    "start_time": "2025-03-01T01:25:08.121Z"
   },
   {
    "duration": 4,
    "start_time": "2025-03-01T01:27:15.832Z"
   },
   {
    "duration": 4,
    "start_time": "2025-03-01T01:27:29.699Z"
   },
   {
    "duration": 296,
    "start_time": "2025-03-01T01:27:58.127Z"
   },
   {
    "duration": 36,
    "start_time": "2025-03-01T01:28:04.594Z"
   },
   {
    "duration": 853,
    "start_time": "2025-03-01T01:28:10.723Z"
   },
   {
    "duration": 17,
    "start_time": "2025-03-01T01:28:11.578Z"
   },
   {
    "duration": 10,
    "start_time": "2025-03-01T01:28:11.597Z"
   },
   {
    "duration": 8,
    "start_time": "2025-03-01T01:28:11.609Z"
   },
   {
    "duration": 9,
    "start_time": "2025-03-01T01:28:11.620Z"
   },
   {
    "duration": 8,
    "start_time": "2025-03-01T01:28:11.630Z"
   },
   {
    "duration": 9,
    "start_time": "2025-03-01T01:28:11.640Z"
   },
   {
    "duration": 8,
    "start_time": "2025-03-01T01:28:11.650Z"
   },
   {
    "duration": 8,
    "start_time": "2025-03-01T01:28:11.687Z"
   },
   {
    "duration": 12,
    "start_time": "2025-03-01T01:28:11.697Z"
   },
   {
    "duration": 9,
    "start_time": "2025-03-01T01:28:11.710Z"
   },
   {
    "duration": 11,
    "start_time": "2025-03-01T01:28:11.721Z"
   },
   {
    "duration": 7,
    "start_time": "2025-03-01T01:28:11.734Z"
   },
   {
    "duration": 43,
    "start_time": "2025-03-01T01:28:11.745Z"
   },
   {
    "duration": 5,
    "start_time": "2025-03-01T01:28:11.791Z"
   },
   {
    "duration": 5,
    "start_time": "2025-03-01T01:28:11.797Z"
   },
   {
    "duration": 12,
    "start_time": "2025-03-01T01:28:11.804Z"
   },
   {
    "duration": 10,
    "start_time": "2025-03-01T01:28:11.817Z"
   },
   {
    "duration": 3,
    "start_time": "2025-03-01T01:28:11.829Z"
   },
   {
    "duration": 263,
    "start_time": "2025-03-01T01:28:14.545Z"
   },
   {
    "duration": 14,
    "start_time": "2025-03-01T01:31:06.531Z"
   },
   {
    "duration": 1057,
    "start_time": "2025-03-01T01:31:24.706Z"
   },
   {
    "duration": 1065,
    "start_time": "2025-03-01T01:31:42.999Z"
   },
   {
    "duration": 1097,
    "start_time": "2025-03-01T01:31:55.460Z"
   },
   {
    "duration": 1096,
    "start_time": "2025-03-01T01:32:19.032Z"
   },
   {
    "duration": 4,
    "start_time": "2025-03-01T01:35:52.008Z"
   },
   {
    "duration": 1180,
    "start_time": "2025-03-01T01:35:59.242Z"
   },
   {
    "duration": 1099,
    "start_time": "2025-03-01T01:36:14.695Z"
   },
   {
    "duration": 1070,
    "start_time": "2025-03-01T01:36:24.822Z"
   },
   {
    "duration": 171,
    "start_time": "2025-03-01T01:44:01.993Z"
   },
   {
    "duration": 2149,
    "start_time": "2025-03-01T01:44:21.310Z"
   },
   {
    "duration": 2151,
    "start_time": "2025-03-01T01:44:36.040Z"
   },
   {
    "duration": 2133,
    "start_time": "2025-03-01T01:44:43.809Z"
   },
   {
    "duration": 2143,
    "start_time": "2025-03-01T01:44:57.746Z"
   },
   {
    "duration": 2180,
    "start_time": "2025-03-01T01:45:13.129Z"
   },
   {
    "duration": 2320,
    "start_time": "2025-03-01T01:45:36.433Z"
   },
   {
    "duration": 2146,
    "start_time": "2025-03-01T01:45:48.950Z"
   },
   {
    "duration": 2148,
    "start_time": "2025-03-01T01:46:04.511Z"
   },
   {
    "duration": 2147,
    "start_time": "2025-03-01T01:46:18.672Z"
   },
   {
    "duration": 16,
    "start_time": "2025-03-01T01:56:18.312Z"
   },
   {
    "duration": 10,
    "start_time": "2025-03-01T01:57:52.328Z"
   },
   {
    "duration": 211,
    "start_time": "2025-03-01T01:58:39.534Z"
   },
   {
    "duration": 204,
    "start_time": "2025-03-01T02:00:12.432Z"
   },
   {
    "duration": 188,
    "start_time": "2025-03-01T02:00:21.263Z"
   },
   {
    "duration": 173,
    "start_time": "2025-03-01T02:00:31.548Z"
   },
   {
    "duration": 187,
    "start_time": "2025-03-01T02:01:07.741Z"
   },
   {
    "duration": 176,
    "start_time": "2025-03-01T02:01:15.257Z"
   },
   {
    "duration": 743,
    "start_time": "2025-03-01T02:04:26.021Z"
   },
   {
    "duration": 234,
    "start_time": "2025-03-01T02:05:05.963Z"
   },
   {
    "duration": 226,
    "start_time": "2025-03-01T02:05:22.783Z"
   },
   {
    "duration": 394,
    "start_time": "2025-03-01T02:06:05.394Z"
   },
   {
    "duration": 377,
    "start_time": "2025-03-01T02:06:19.552Z"
   },
   {
    "duration": 224,
    "start_time": "2025-03-01T02:06:41.970Z"
   },
   {
    "duration": 226,
    "start_time": "2025-03-01T02:06:54.764Z"
   },
   {
    "duration": 198,
    "start_time": "2025-03-01T02:07:06.176Z"
   },
   {
    "duration": 234,
    "start_time": "2025-03-01T02:07:16.300Z"
   },
   {
    "duration": 212,
    "start_time": "2025-03-01T02:07:27.437Z"
   },
   {
    "duration": 200,
    "start_time": "2025-03-01T02:07:37.225Z"
   },
   {
    "duration": 8513,
    "start_time": "2025-03-01T02:07:46.955Z"
   },
   {
    "duration": 222,
    "start_time": "2025-03-01T02:12:13.928Z"
   },
   {
    "duration": 203,
    "start_time": "2025-03-01T02:12:26.751Z"
   },
   {
    "duration": 251,
    "start_time": "2025-03-01T02:12:44.110Z"
   },
   {
    "duration": 240,
    "start_time": "2025-03-01T02:12:51.019Z"
   },
   {
    "duration": 342,
    "start_time": "2025-03-01T02:12:59.318Z"
   },
   {
    "duration": 204,
    "start_time": "2025-03-01T02:13:08.585Z"
   },
   {
    "duration": 201,
    "start_time": "2025-03-01T02:13:16.418Z"
   },
   {
    "duration": 201,
    "start_time": "2025-03-01T02:13:26.158Z"
   },
   {
    "duration": 236,
    "start_time": "2025-03-01T02:13:31.678Z"
   },
   {
    "duration": 2503,
    "start_time": "2025-03-01T03:11:12.760Z"
   },
   {
    "duration": 215,
    "start_time": "2025-03-01T03:20:33.080Z"
   },
   {
    "duration": 850,
    "start_time": "2025-03-01T03:20:43.063Z"
   },
   {
    "duration": 24,
    "start_time": "2025-03-01T03:20:43.915Z"
   },
   {
    "duration": 9,
    "start_time": "2025-03-01T03:20:43.940Z"
   },
   {
    "duration": 8,
    "start_time": "2025-03-01T03:20:43.951Z"
   },
   {
    "duration": 8,
    "start_time": "2025-03-01T03:20:43.961Z"
   },
   {
    "duration": 8,
    "start_time": "2025-03-01T03:20:43.970Z"
   },
   {
    "duration": 9,
    "start_time": "2025-03-01T03:20:43.979Z"
   },
   {
    "duration": 8,
    "start_time": "2025-03-01T03:20:43.990Z"
   },
   {
    "duration": 8,
    "start_time": "2025-03-01T03:20:44.024Z"
   },
   {
    "duration": 11,
    "start_time": "2025-03-01T03:20:44.036Z"
   },
   {
    "duration": 9,
    "start_time": "2025-03-01T03:20:44.049Z"
   },
   {
    "duration": 11,
    "start_time": "2025-03-01T03:20:44.060Z"
   },
   {
    "duration": 9,
    "start_time": "2025-03-01T03:20:44.072Z"
   },
   {
    "duration": 43,
    "start_time": "2025-03-01T03:20:44.083Z"
   },
   {
    "duration": 5,
    "start_time": "2025-03-01T03:20:44.127Z"
   },
   {
    "duration": 5,
    "start_time": "2025-03-01T03:20:44.134Z"
   },
   {
    "duration": 12,
    "start_time": "2025-03-01T03:20:44.140Z"
   },
   {
    "duration": 8,
    "start_time": "2025-03-01T03:20:44.154Z"
   },
   {
    "duration": 1149,
    "start_time": "2025-03-01T03:20:44.164Z"
   },
   {
    "duration": 2219,
    "start_time": "2025-03-01T03:20:45.315Z"
   },
   {
    "duration": 216,
    "start_time": "2025-03-01T03:20:47.536Z"
   },
   {
    "duration": 222,
    "start_time": "2025-03-01T03:20:47.755Z"
   },
   {
    "duration": 9,
    "start_time": "2025-03-01T03:20:47.979Z"
   },
   {
    "duration": 6,
    "start_time": "2025-03-01T04:30:36.929Z"
   },
   {
    "duration": 3,
    "start_time": "2025-03-01T04:31:03.768Z"
   },
   {
    "duration": 4,
    "start_time": "2025-03-01T04:31:26.244Z"
   },
   {
    "duration": 4,
    "start_time": "2025-03-01T04:32:52.199Z"
   },
   {
    "duration": 4,
    "start_time": "2025-03-01T04:33:15.810Z"
   },
   {
    "duration": 853,
    "start_time": "2025-03-01T04:33:33.046Z"
   },
   {
    "duration": 15,
    "start_time": "2025-03-01T04:33:33.901Z"
   },
   {
    "duration": 12,
    "start_time": "2025-03-01T04:33:33.918Z"
   },
   {
    "duration": 8,
    "start_time": "2025-03-01T04:33:33.932Z"
   },
   {
    "duration": 8,
    "start_time": "2025-03-01T04:33:33.944Z"
   },
   {
    "duration": 7,
    "start_time": "2025-03-01T04:33:33.953Z"
   },
   {
    "duration": 9,
    "start_time": "2025-03-01T04:33:33.962Z"
   },
   {
    "duration": 9,
    "start_time": "2025-03-01T04:33:33.972Z"
   },
   {
    "duration": 44,
    "start_time": "2025-03-01T04:33:33.983Z"
   },
   {
    "duration": 11,
    "start_time": "2025-03-01T04:33:34.029Z"
   },
   {
    "duration": 9,
    "start_time": "2025-03-01T04:33:34.042Z"
   },
   {
    "duration": 12,
    "start_time": "2025-03-01T04:33:34.052Z"
   },
   {
    "duration": 8,
    "start_time": "2025-03-01T04:33:34.065Z"
   },
   {
    "duration": 5,
    "start_time": "2025-03-01T04:33:34.078Z"
   },
   {
    "duration": 43,
    "start_time": "2025-03-01T04:33:34.085Z"
   },
   {
    "duration": 6,
    "start_time": "2025-03-01T04:33:34.129Z"
   },
   {
    "duration": 12,
    "start_time": "2025-03-01T04:33:34.136Z"
   },
   {
    "duration": 8,
    "start_time": "2025-03-01T04:33:34.150Z"
   },
   {
    "duration": 1149,
    "start_time": "2025-03-01T04:33:34.160Z"
   },
   {
    "duration": 2195,
    "start_time": "2025-03-01T04:33:35.310Z"
   },
   {
    "duration": 225,
    "start_time": "2025-03-01T04:33:37.511Z"
   },
   {
    "duration": 222,
    "start_time": "2025-03-01T04:33:37.739Z"
   },
   {
    "duration": 9,
    "start_time": "2025-03-01T04:33:37.963Z"
   },
   {
    "duration": 4,
    "start_time": "2025-03-01T04:33:37.974Z"
   },
   {
    "duration": 0,
    "start_time": "2025-03-01T04:33:37.979Z"
   },
   {
    "duration": 4,
    "start_time": "2025-03-01T04:34:33.464Z"
   },
   {
    "duration": 238,
    "start_time": "2025-03-01T04:36:59.348Z"
   },
   {
    "duration": 20,
    "start_time": "2025-03-01T04:37:48.696Z"
   },
   {
    "duration": 3,
    "start_time": "2025-03-01T04:54:28.340Z"
   },
   {
    "duration": 13,
    "start_time": "2025-03-01T04:54:42.256Z"
   },
   {
    "duration": 15,
    "start_time": "2025-03-01T04:54:59.376Z"
   },
   {
    "duration": 156,
    "start_time": "2025-03-01T18:39:08.192Z"
   },
   {
    "duration": 12,
    "start_time": "2025-03-01T18:39:30.622Z"
   },
   {
    "duration": 2527,
    "start_time": "2025-03-01T18:39:37.090Z"
   },
   {
    "duration": 27,
    "start_time": "2025-03-01T18:39:39.619Z"
   },
   {
    "duration": 9,
    "start_time": "2025-03-01T18:39:39.648Z"
   },
   {
    "duration": 8,
    "start_time": "2025-03-01T18:39:39.659Z"
   },
   {
    "duration": 8,
    "start_time": "2025-03-01T18:39:39.670Z"
   },
   {
    "duration": 8,
    "start_time": "2025-03-01T18:39:39.679Z"
   },
   {
    "duration": 21,
    "start_time": "2025-03-01T18:39:39.690Z"
   },
   {
    "duration": 8,
    "start_time": "2025-03-01T18:39:39.712Z"
   },
   {
    "duration": 8,
    "start_time": "2025-03-01T18:39:39.722Z"
   },
   {
    "duration": 12,
    "start_time": "2025-03-01T18:39:39.731Z"
   },
   {
    "duration": 9,
    "start_time": "2025-03-01T18:39:39.744Z"
   },
   {
    "duration": 16,
    "start_time": "2025-03-01T18:39:39.756Z"
   },
   {
    "duration": 39,
    "start_time": "2025-03-01T18:39:39.775Z"
   },
   {
    "duration": 4,
    "start_time": "2025-03-01T18:39:39.819Z"
   },
   {
    "duration": 5,
    "start_time": "2025-03-01T18:39:39.825Z"
   },
   {
    "duration": 5,
    "start_time": "2025-03-01T18:39:39.831Z"
   },
   {
    "duration": 12,
    "start_time": "2025-03-01T18:39:39.839Z"
   },
   {
    "duration": 8,
    "start_time": "2025-03-01T18:39:39.852Z"
   },
   {
    "duration": 1147,
    "start_time": "2025-03-01T18:39:39.862Z"
   },
   {
    "duration": 2119,
    "start_time": "2025-03-01T18:39:41.011Z"
   },
   {
    "duration": 284,
    "start_time": "2025-03-01T18:39:43.132Z"
   },
   {
    "duration": 214,
    "start_time": "2025-03-01T18:39:43.418Z"
   },
   {
    "duration": 10,
    "start_time": "2025-03-01T18:39:43.634Z"
   },
   {
    "duration": 8,
    "start_time": "2025-03-01T18:40:06.085Z"
   },
   {
    "duration": 499,
    "start_time": "2025-03-01T18:40:09.281Z"
   },
   {
    "duration": 6,
    "start_time": "2025-03-01T18:40:43.621Z"
   },
   {
    "duration": 14,
    "start_time": "2025-03-01T18:47:31.582Z"
   },
   {
    "duration": 7,
    "start_time": "2025-03-01T18:47:38.436Z"
   },
   {
    "duration": 12,
    "start_time": "2025-03-01T18:47:49.609Z"
   },
   {
    "duration": 157,
    "start_time": "2025-03-01T20:47:12.677Z"
   },
   {
    "duration": 14,
    "start_time": "2025-03-01T20:47:39.533Z"
   },
   {
    "duration": 2583,
    "start_time": "2025-03-01T20:47:47.739Z"
   },
   {
    "duration": 26,
    "start_time": "2025-03-01T20:47:50.325Z"
   },
   {
    "duration": 10,
    "start_time": "2025-03-01T20:47:50.353Z"
   },
   {
    "duration": 8,
    "start_time": "2025-03-01T20:47:50.366Z"
   },
   {
    "duration": 8,
    "start_time": "2025-03-01T20:47:50.375Z"
   },
   {
    "duration": 7,
    "start_time": "2025-03-01T20:47:50.385Z"
   },
   {
    "duration": 9,
    "start_time": "2025-03-01T20:47:50.393Z"
   },
   {
    "duration": 8,
    "start_time": "2025-03-01T20:47:50.423Z"
   },
   {
    "duration": 7,
    "start_time": "2025-03-01T20:47:50.433Z"
   },
   {
    "duration": 11,
    "start_time": "2025-03-01T20:47:50.443Z"
   },
   {
    "duration": 9,
    "start_time": "2025-03-01T20:47:50.455Z"
   },
   {
    "duration": 10,
    "start_time": "2025-03-01T20:47:50.466Z"
   },
   {
    "duration": 7,
    "start_time": "2025-03-01T20:47:50.478Z"
   },
   {
    "duration": 40,
    "start_time": "2025-03-01T20:47:50.488Z"
   },
   {
    "duration": 5,
    "start_time": "2025-03-01T20:47:50.530Z"
   },
   {
    "duration": 4,
    "start_time": "2025-03-01T20:47:50.537Z"
   },
   {
    "duration": 11,
    "start_time": "2025-03-01T20:47:50.543Z"
   },
   {
    "duration": 9,
    "start_time": "2025-03-01T20:47:50.555Z"
   },
   {
    "duration": 1149,
    "start_time": "2025-03-01T20:47:50.567Z"
   },
   {
    "duration": 2183,
    "start_time": "2025-03-01T20:47:51.718Z"
   },
   {
    "duration": 285,
    "start_time": "2025-03-01T20:47:53.903Z"
   },
   {
    "duration": 215,
    "start_time": "2025-03-01T20:47:54.190Z"
   },
   {
    "duration": 18,
    "start_time": "2025-03-01T20:47:54.408Z"
   },
   {
    "duration": 5,
    "start_time": "2025-03-01T20:47:54.428Z"
   },
   {
    "duration": 221,
    "start_time": "2025-03-01T20:48:30.458Z"
   },
   {
    "duration": 15,
    "start_time": "2025-03-01T20:48:48.799Z"
   },
   {
    "duration": 18,
    "start_time": "2025-03-01T20:48:57.444Z"
   },
   {
    "duration": 9,
    "start_time": "2025-03-01T20:50:02.090Z"
   },
   {
    "duration": 20,
    "start_time": "2025-03-01T20:50:11.376Z"
   },
   {
    "duration": 9,
    "start_time": "2025-03-01T20:50:16.145Z"
   },
   {
    "duration": 13,
    "start_time": "2025-03-01T20:51:36.262Z"
   },
   {
    "duration": 8,
    "start_time": "2025-03-01T20:51:57.380Z"
   },
   {
    "duration": 9,
    "start_time": "2025-03-01T20:52:03.256Z"
   },
   {
    "duration": 3,
    "start_time": "2025-03-01T20:52:10.123Z"
   },
   {
    "duration": 17,
    "start_time": "2025-03-01T20:52:10.128Z"
   },
   {
    "duration": 7,
    "start_time": "2025-03-01T20:52:10.146Z"
   },
   {
    "duration": 8,
    "start_time": "2025-03-01T20:52:10.155Z"
   },
   {
    "duration": 8,
    "start_time": "2025-03-01T20:52:10.166Z"
   },
   {
    "duration": 7,
    "start_time": "2025-03-01T20:52:10.176Z"
   },
   {
    "duration": 9,
    "start_time": "2025-03-01T20:52:10.185Z"
   },
   {
    "duration": 36,
    "start_time": "2025-03-01T20:52:10.195Z"
   },
   {
    "duration": 7,
    "start_time": "2025-03-01T20:52:10.232Z"
   },
   {
    "duration": 11,
    "start_time": "2025-03-01T20:52:10.241Z"
   },
   {
    "duration": 9,
    "start_time": "2025-03-01T20:52:10.254Z"
   },
   {
    "duration": 10,
    "start_time": "2025-03-01T20:52:10.264Z"
   },
   {
    "duration": 8,
    "start_time": "2025-03-01T20:52:10.275Z"
   },
   {
    "duration": 5,
    "start_time": "2025-03-01T20:52:10.326Z"
   },
   {
    "duration": 4,
    "start_time": "2025-03-01T20:52:10.334Z"
   },
   {
    "duration": 5,
    "start_time": "2025-03-01T20:52:10.339Z"
   },
   {
    "duration": 10,
    "start_time": "2025-03-01T20:52:10.346Z"
   },
   {
    "duration": 9,
    "start_time": "2025-03-01T20:52:10.358Z"
   },
   {
    "duration": 1126,
    "start_time": "2025-03-01T20:52:10.368Z"
   },
   {
    "duration": 2186,
    "start_time": "2025-03-01T20:52:11.496Z"
   },
   {
    "duration": 331,
    "start_time": "2025-03-01T20:52:13.685Z"
   },
   {
    "duration": 220,
    "start_time": "2025-03-01T20:52:14.018Z"
   },
   {
    "duration": 18,
    "start_time": "2025-03-01T20:54:48.021Z"
   },
   {
    "duration": 11,
    "start_time": "2025-03-01T20:54:54.266Z"
   },
   {
    "duration": 9,
    "start_time": "2025-03-01T20:55:10.077Z"
   },
   {
    "duration": 9,
    "start_time": "2025-03-01T20:59:16.632Z"
   },
   {
    "duration": 289,
    "start_time": "2025-03-01T20:59:35.825Z"
   },
   {
    "duration": 8,
    "start_time": "2025-03-01T21:01:15.509Z"
   },
   {
    "duration": 9,
    "start_time": "2025-03-01T21:01:21.776Z"
   },
   {
    "duration": 8,
    "start_time": "2025-03-01T21:01:45.129Z"
   },
   {
    "duration": 10,
    "start_time": "2025-03-01T21:03:43.124Z"
   },
   {
    "duration": 17,
    "start_time": "2025-03-01T21:12:11.721Z"
   },
   {
    "duration": 8,
    "start_time": "2025-03-01T21:12:52.991Z"
   },
   {
    "duration": 6,
    "start_time": "2025-03-01T21:13:09.980Z"
   },
   {
    "duration": 8,
    "start_time": "2025-03-01T21:13:31.853Z"
   },
   {
    "duration": 18,
    "start_time": "2025-03-01T21:15:15.641Z"
   },
   {
    "duration": 18,
    "start_time": "2025-03-01T21:15:30.786Z"
   },
   {
    "duration": 17,
    "start_time": "2025-03-01T21:16:27.532Z"
   },
   {
    "duration": 17,
    "start_time": "2025-03-01T21:17:11.073Z"
   },
   {
    "duration": 15,
    "start_time": "2025-03-01T21:17:23.315Z"
   },
   {
    "duration": 6,
    "start_time": "2025-03-01T21:17:31.432Z"
   },
   {
    "duration": 15,
    "start_time": "2025-03-01T21:17:44.395Z"
   },
   {
    "duration": 19,
    "start_time": "2025-03-01T21:18:21.068Z"
   },
   {
    "duration": 15,
    "start_time": "2025-03-01T21:18:35.352Z"
   },
   {
    "duration": 15,
    "start_time": "2025-03-01T21:19:14.805Z"
   },
   {
    "duration": 5,
    "start_time": "2025-03-01T21:24:32.706Z"
   },
   {
    "duration": 17,
    "start_time": "2025-03-01T21:26:52.438Z"
   },
   {
    "duration": 16,
    "start_time": "2025-03-01T21:32:48.822Z"
   },
   {
    "duration": 15,
    "start_time": "2025-03-01T21:33:01.092Z"
   },
   {
    "duration": 15,
    "start_time": "2025-03-01T21:34:15.641Z"
   },
   {
    "duration": 15,
    "start_time": "2025-03-01T21:35:49.829Z"
   },
   {
    "duration": 16,
    "start_time": "2025-03-01T21:36:13.619Z"
   },
   {
    "duration": 15,
    "start_time": "2025-03-01T21:36:29.670Z"
   },
   {
    "duration": 7,
    "start_time": "2025-03-01T21:37:42.857Z"
   },
   {
    "duration": 17,
    "start_time": "2025-03-01T21:37:48.591Z"
   },
   {
    "duration": 5,
    "start_time": "2025-03-01T21:37:56.770Z"
   },
   {
    "duration": 17,
    "start_time": "2025-03-01T21:38:20.901Z"
   },
   {
    "duration": 17,
    "start_time": "2025-03-01T21:38:34.749Z"
   },
   {
    "duration": 16,
    "start_time": "2025-03-01T21:38:44.207Z"
   },
   {
    "duration": 16,
    "start_time": "2025-03-01T21:38:55.149Z"
   },
   {
    "duration": 815,
    "start_time": "2025-03-01T21:39:01.443Z"
   },
   {
    "duration": 16,
    "start_time": "2025-03-01T21:39:02.261Z"
   },
   {
    "duration": 10,
    "start_time": "2025-03-01T21:39:02.279Z"
   },
   {
    "duration": 8,
    "start_time": "2025-03-01T21:39:02.291Z"
   },
   {
    "duration": 7,
    "start_time": "2025-03-01T21:39:02.301Z"
   },
   {
    "duration": 7,
    "start_time": "2025-03-01T21:39:02.325Z"
   },
   {
    "duration": 9,
    "start_time": "2025-03-01T21:39:02.334Z"
   },
   {
    "duration": 8,
    "start_time": "2025-03-01T21:39:02.345Z"
   },
   {
    "duration": 7,
    "start_time": "2025-03-01T21:39:02.355Z"
   },
   {
    "duration": 11,
    "start_time": "2025-03-01T21:39:02.365Z"
   },
   {
    "duration": 9,
    "start_time": "2025-03-01T21:39:02.377Z"
   },
   {
    "duration": 10,
    "start_time": "2025-03-01T21:39:02.424Z"
   },
   {
    "duration": 8,
    "start_time": "2025-03-01T21:39:02.435Z"
   },
   {
    "duration": 5,
    "start_time": "2025-03-01T21:39:02.445Z"
   },
   {
    "duration": 4,
    "start_time": "2025-03-01T21:39:02.452Z"
   },
   {
    "duration": 4,
    "start_time": "2025-03-01T21:39:02.458Z"
   },
   {
    "duration": 12,
    "start_time": "2025-03-01T21:39:02.464Z"
   },
   {
    "duration": 52,
    "start_time": "2025-03-01T21:39:02.478Z"
   },
   {
    "duration": 1120,
    "start_time": "2025-03-01T21:39:02.532Z"
   },
   {
    "duration": 2216,
    "start_time": "2025-03-01T21:39:03.654Z"
   },
   {
    "duration": 209,
    "start_time": "2025-03-01T21:39:05.872Z"
   },
   {
    "duration": 219,
    "start_time": "2025-03-01T21:39:06.083Z"
   },
   {
    "duration": 9,
    "start_time": "2025-03-01T21:39:06.304Z"
   },
   {
    "duration": 14,
    "start_time": "2025-03-01T21:39:06.315Z"
   },
   {
    "duration": 8,
    "start_time": "2025-03-01T21:39:06.331Z"
   },
   {
    "duration": 11,
    "start_time": "2025-03-01T21:39:06.340Z"
   },
   {
    "duration": 6,
    "start_time": "2025-03-01T21:39:06.353Z"
   },
   {
    "duration": 7,
    "start_time": "2025-03-01T21:39:06.363Z"
   },
   {
    "duration": 268,
    "start_time": "2025-03-01T21:39:06.372Z"
   },
   {
    "duration": 17,
    "start_time": "2025-03-01T21:39:36.734Z"
   },
   {
    "duration": 15,
    "start_time": "2025-03-01T21:39:50.990Z"
   },
   {
    "duration": 4,
    "start_time": "2025-03-01T21:41:33.205Z"
   },
   {
    "duration": 834,
    "start_time": "2025-03-02T11:08:36.067Z"
   },
   {
    "duration": 613,
    "start_time": "2025-03-02T11:08:37.173Z"
   },
   {
    "duration": 13,
    "start_time": "2025-03-02T11:09:05.747Z"
   },
   {
    "duration": 9,
    "start_time": "2025-03-02T11:09:07.781Z"
   },
   {
    "duration": 9,
    "start_time": "2025-03-02T11:09:08.348Z"
   },
   {
    "duration": 7,
    "start_time": "2025-03-02T11:09:17.477Z"
   },
   {
    "duration": 8,
    "start_time": "2025-03-02T11:09:20.315Z"
   },
   {
    "duration": 10,
    "start_time": "2025-03-02T11:09:28.149Z"
   },
   {
    "duration": 9,
    "start_time": "2025-03-02T11:09:32.894Z"
   },
   {
    "duration": 8,
    "start_time": "2025-03-02T11:09:33.488Z"
   },
   {
    "duration": 96,
    "start_time": "2025-03-02T11:09:46.812Z"
   },
   {
    "duration": 12,
    "start_time": "2025-03-02T11:09:47.307Z"
   },
   {
    "duration": 11,
    "start_time": "2025-03-02T11:09:48.123Z"
   },
   {
    "duration": 9,
    "start_time": "2025-03-02T11:09:48.810Z"
   },
   {
    "duration": 5,
    "start_time": "2025-03-02T11:09:52.154Z"
   },
   {
    "duration": 5,
    "start_time": "2025-03-02T11:09:52.420Z"
   },
   {
    "duration": 6,
    "start_time": "2025-03-02T11:09:52.937Z"
   },
   {
    "duration": 7,
    "start_time": "2025-03-02T11:11:20.300Z"
   },
   {
    "duration": 8,
    "start_time": "2025-03-02T11:11:24.765Z"
   },
   {
    "duration": 9,
    "start_time": "2025-03-02T11:11:46.256Z"
   },
   {
    "duration": 1095,
    "start_time": "2025-03-02T11:11:50.498Z"
   },
   {
    "duration": 3148,
    "start_time": "2025-03-02T11:12:49.851Z"
   },
   {
    "duration": 204,
    "start_time": "2025-03-02T11:13:34.954Z"
   },
   {
    "duration": 9,
    "start_time": "2025-03-02T11:14:09.567Z"
   },
   {
    "duration": 6,
    "start_time": "2025-03-02T11:14:10.240Z"
   },
   {
    "duration": 9,
    "start_time": "2025-03-02T11:14:11.245Z"
   },
   {
    "duration": 11,
    "start_time": "2025-03-02T11:14:13.395Z"
   },
   {
    "duration": 9,
    "start_time": "2025-03-02T11:14:14.865Z"
   },
   {
    "duration": 8,
    "start_time": "2025-03-02T11:14:16.913Z"
   },
   {
    "duration": 4,
    "start_time": "2025-03-02T11:14:17.499Z"
   }
  ],
  "kernelspec": {
   "display_name": "Python 3 (ipykernel)",
   "language": "python",
   "name": "python3"
  },
  "language_info": {
   "codemirror_mode": {
    "name": "ipython",
    "version": 3
   },
   "file_extension": ".py",
   "mimetype": "text/x-python",
   "name": "python",
   "nbconvert_exporter": "python",
   "pygments_lexer": "ipython3",
   "version": "3.9.19"
  },
  "toc": {
   "base_numbering": 1,
   "nav_menu": {},
   "number_sections": true,
   "sideBar": true,
   "skip_h1_title": true,
   "title_cell": "Table of Contents",
   "title_sidebar": "Contents",
   "toc_cell": false,
   "toc_position": {},
   "toc_section_display": true,
   "toc_window_display": false
  }
 },
 "nbformat": 4,
 "nbformat_minor": 2
}
